{
  "nbformat": 4,
  "nbformat_minor": 0,
  "metadata": {
    "colab": {
      "provenance": []
    },
    "kernelspec": {
      "name": "python3",
      "display_name": "Python 3"
    },
    "language_info": {
      "name": "python"
    },
    "gpuClass": "standard"
  },
  "cells": [
    {
      "cell_type": "code",
      "execution_count": null,
      "metadata": {
        "id": "0v7sAXE6gXoR"
      },
      "outputs": [],
      "source": [
        "import pandas as pd\n",
        "import numpy as np\n",
        "\n",
        "import matplotlib.pyplot as plt\n",
        "import seaborn as sns"
      ]
    },
    {
      "cell_type": "code",
      "source": [
        "data = pd.read_excel('daily_offers.xlsx')\n",
        "print(data.shape)\n",
        "data.head(3)"
      ],
      "metadata": {
        "colab": {
          "base_uri": "https://localhost:8080/",
          "height": 398
        },
        "id": "nDN_9lPRj4J7",
        "outputId": "ff8a1f4b-cd99-4c98-ee44-627f5376f495"
      },
      "execution_count": null,
      "outputs": [
        {
          "output_type": "stream",
          "name": "stdout",
          "text": [
            "(181673, 14)\n"
          ]
        },
        {
          "output_type": "execute_result",
          "data": {
            "text/plain": [
              "                                     id   item_date quantity tons    customer  \\\n",
              "0  EC06F063-9DF0-440C-8764-0B0C05A4F6AE  20210401.0     54.151139  30156308.0   \n",
              "1  4E5F4B3D-DDDF-499D-AFDE-A3227EC49425  20210401.0    768.024839  30202938.0   \n",
              "2  E140FF1B-2407-4C02-A0DD-780A093B1158  20210401.0    386.127949  30153963.0   \n",
              "\n",
              "   country status item type  application  thickness   width  \\\n",
              "0     28.0    Won         W         10.0       2.00  1500.0   \n",
              "1     25.0    Won         W         41.0       0.80  1210.0   \n",
              "2     30.0    Won        WI         28.0       0.38   952.0   \n",
              "\n",
              "                               material_ref  product_ref  delivery date  \\\n",
              "0                               DEQ1 S460MC   1670798778     20210701.0   \n",
              "1  0000000000000000000000000000000000104991   1668701718     20210401.0   \n",
              "2                                  S0380700       628377     20210101.0   \n",
              "\n",
              "   selling_price  \n",
              "0         854.00  \n",
              "1        1047.00  \n",
              "2         644.33  "
            ],
            "text/html": [
              "\n",
              "  <div id=\"df-c79e2871-03f2-4fd1-8ebb-f771a51f7ff8\">\n",
              "    <div class=\"colab-df-container\">\n",
              "      <div>\n",
              "<style scoped>\n",
              "    .dataframe tbody tr th:only-of-type {\n",
              "        vertical-align: middle;\n",
              "    }\n",
              "\n",
              "    .dataframe tbody tr th {\n",
              "        vertical-align: top;\n",
              "    }\n",
              "\n",
              "    .dataframe thead th {\n",
              "        text-align: right;\n",
              "    }\n",
              "</style>\n",
              "<table border=\"1\" class=\"dataframe\">\n",
              "  <thead>\n",
              "    <tr style=\"text-align: right;\">\n",
              "      <th></th>\n",
              "      <th>id</th>\n",
              "      <th>item_date</th>\n",
              "      <th>quantity tons</th>\n",
              "      <th>customer</th>\n",
              "      <th>country</th>\n",
              "      <th>status</th>\n",
              "      <th>item type</th>\n",
              "      <th>application</th>\n",
              "      <th>thickness</th>\n",
              "      <th>width</th>\n",
              "      <th>material_ref</th>\n",
              "      <th>product_ref</th>\n",
              "      <th>delivery date</th>\n",
              "      <th>selling_price</th>\n",
              "    </tr>\n",
              "  </thead>\n",
              "  <tbody>\n",
              "    <tr>\n",
              "      <th>0</th>\n",
              "      <td>EC06F063-9DF0-440C-8764-0B0C05A4F6AE</td>\n",
              "      <td>20210401.0</td>\n",
              "      <td>54.151139</td>\n",
              "      <td>30156308.0</td>\n",
              "      <td>28.0</td>\n",
              "      <td>Won</td>\n",
              "      <td>W</td>\n",
              "      <td>10.0</td>\n",
              "      <td>2.00</td>\n",
              "      <td>1500.0</td>\n",
              "      <td>DEQ1 S460MC</td>\n",
              "      <td>1670798778</td>\n",
              "      <td>20210701.0</td>\n",
              "      <td>854.00</td>\n",
              "    </tr>\n",
              "    <tr>\n",
              "      <th>1</th>\n",
              "      <td>4E5F4B3D-DDDF-499D-AFDE-A3227EC49425</td>\n",
              "      <td>20210401.0</td>\n",
              "      <td>768.024839</td>\n",
              "      <td>30202938.0</td>\n",
              "      <td>25.0</td>\n",
              "      <td>Won</td>\n",
              "      <td>W</td>\n",
              "      <td>41.0</td>\n",
              "      <td>0.80</td>\n",
              "      <td>1210.0</td>\n",
              "      <td>0000000000000000000000000000000000104991</td>\n",
              "      <td>1668701718</td>\n",
              "      <td>20210401.0</td>\n",
              "      <td>1047.00</td>\n",
              "    </tr>\n",
              "    <tr>\n",
              "      <th>2</th>\n",
              "      <td>E140FF1B-2407-4C02-A0DD-780A093B1158</td>\n",
              "      <td>20210401.0</td>\n",
              "      <td>386.127949</td>\n",
              "      <td>30153963.0</td>\n",
              "      <td>30.0</td>\n",
              "      <td>Won</td>\n",
              "      <td>WI</td>\n",
              "      <td>28.0</td>\n",
              "      <td>0.38</td>\n",
              "      <td>952.0</td>\n",
              "      <td>S0380700</td>\n",
              "      <td>628377</td>\n",
              "      <td>20210101.0</td>\n",
              "      <td>644.33</td>\n",
              "    </tr>\n",
              "  </tbody>\n",
              "</table>\n",
              "</div>\n",
              "      <button class=\"colab-df-convert\" onclick=\"convertToInteractive('df-c79e2871-03f2-4fd1-8ebb-f771a51f7ff8')\"\n",
              "              title=\"Convert this dataframe to an interactive table.\"\n",
              "              style=\"display:none;\">\n",
              "        \n",
              "  <svg xmlns=\"http://www.w3.org/2000/svg\" height=\"24px\"viewBox=\"0 0 24 24\"\n",
              "       width=\"24px\">\n",
              "    <path d=\"M0 0h24v24H0V0z\" fill=\"none\"/>\n",
              "    <path d=\"M18.56 5.44l.94 2.06.94-2.06 2.06-.94-2.06-.94-.94-2.06-.94 2.06-2.06.94zm-11 1L8.5 8.5l.94-2.06 2.06-.94-2.06-.94L8.5 2.5l-.94 2.06-2.06.94zm10 10l.94 2.06.94-2.06 2.06-.94-2.06-.94-.94-2.06-.94 2.06-2.06.94z\"/><path d=\"M17.41 7.96l-1.37-1.37c-.4-.4-.92-.59-1.43-.59-.52 0-1.04.2-1.43.59L10.3 9.45l-7.72 7.72c-.78.78-.78 2.05 0 2.83L4 21.41c.39.39.9.59 1.41.59.51 0 1.02-.2 1.41-.59l7.78-7.78 2.81-2.81c.8-.78.8-2.07 0-2.86zM5.41 20L4 18.59l7.72-7.72 1.47 1.35L5.41 20z\"/>\n",
              "  </svg>\n",
              "      </button>\n",
              "      \n",
              "  <style>\n",
              "    .colab-df-container {\n",
              "      display:flex;\n",
              "      flex-wrap:wrap;\n",
              "      gap: 12px;\n",
              "    }\n",
              "\n",
              "    .colab-df-convert {\n",
              "      background-color: #E8F0FE;\n",
              "      border: none;\n",
              "      border-radius: 50%;\n",
              "      cursor: pointer;\n",
              "      display: none;\n",
              "      fill: #1967D2;\n",
              "      height: 32px;\n",
              "      padding: 0 0 0 0;\n",
              "      width: 32px;\n",
              "    }\n",
              "\n",
              "    .colab-df-convert:hover {\n",
              "      background-color: #E2EBFA;\n",
              "      box-shadow: 0px 1px 2px rgba(60, 64, 67, 0.3), 0px 1px 3px 1px rgba(60, 64, 67, 0.15);\n",
              "      fill: #174EA6;\n",
              "    }\n",
              "\n",
              "    [theme=dark] .colab-df-convert {\n",
              "      background-color: #3B4455;\n",
              "      fill: #D2E3FC;\n",
              "    }\n",
              "\n",
              "    [theme=dark] .colab-df-convert:hover {\n",
              "      background-color: #434B5C;\n",
              "      box-shadow: 0px 1px 3px 1px rgba(0, 0, 0, 0.15);\n",
              "      filter: drop-shadow(0px 1px 2px rgba(0, 0, 0, 0.3));\n",
              "      fill: #FFFFFF;\n",
              "    }\n",
              "  </style>\n",
              "\n",
              "      <script>\n",
              "        const buttonEl =\n",
              "          document.querySelector('#df-c79e2871-03f2-4fd1-8ebb-f771a51f7ff8 button.colab-df-convert');\n",
              "        buttonEl.style.display =\n",
              "          google.colab.kernel.accessAllowed ? 'block' : 'none';\n",
              "\n",
              "        async function convertToInteractive(key) {\n",
              "          const element = document.querySelector('#df-c79e2871-03f2-4fd1-8ebb-f771a51f7ff8');\n",
              "          const dataTable =\n",
              "            await google.colab.kernel.invokeFunction('convertToInteractive',\n",
              "                                                     [key], {});\n",
              "          if (!dataTable) return;\n",
              "\n",
              "          const docLinkHtml = 'Like what you see? Visit the ' +\n",
              "            '<a target=\"_blank\" href=https://colab.research.google.com/notebooks/data_table.ipynb>data table notebook</a>'\n",
              "            + ' to learn more about interactive tables.';\n",
              "          element.innerHTML = '';\n",
              "          dataTable['output_type'] = 'display_data';\n",
              "          await google.colab.output.renderOutput(dataTable, element);\n",
              "          const docLink = document.createElement('div');\n",
              "          docLink.innerHTML = docLinkHtml;\n",
              "          element.appendChild(docLink);\n",
              "        }\n",
              "      </script>\n",
              "    </div>\n",
              "  </div>\n",
              "  "
            ]
          },
          "metadata": {},
          "execution_count": 2
        }
      ]
    },
    {
      "cell_type": "markdown",
      "source": [
        "### <font color='red'>Train-Test split:</font>"
      ],
      "metadata": {
        "id": "9hBudP3fwt_T"
      }
    },
    {
      "cell_type": "code",
      "source": [
        "# selling_price after splitting into train and test set should have same distribution\n",
        "# It was found that we have to remove extreme outliers to achieve this\n",
        "\n",
        "indx = np.where(np.isnan(data.selling_price.values) == False)[0] # getting index where selling_price is not nan\n",
        "np.quantile(data.selling_price.values[indx],[0.25,0.5,0.75,0.9,0.99]) # getting quantile value"
      ],
      "metadata": {
        "colab": {
          "base_uri": "https://localhost:8080/"
        },
        "id": "wNIV-aPoXPVc",
        "outputId": "20745f49-1d59-4ebb-c64a-715fbe1e8b7b"
      },
      "execution_count": null,
      "outputs": [
        {
          "output_type": "execute_result",
          "data": {
            "text/plain": [
              "array([ 669.,  812.,  953., 1091., 1374.])"
            ]
          },
          "metadata": {},
          "execution_count": 26
        }
      ]
    },
    {
      "cell_type": "code",
      "source": [
        "np.set_printoptions(suppress=True, formatter={'float_kind':'{:0.2f}'.format}) # https://stackoverflow.com/a/11528796\n",
        "\n",
        "np.quantile(data.selling_price.values[indx],np.arange(0.99,1.001,0.001)) # getting quantile value between 0.99 to 1 "
      ],
      "metadata": {
        "colab": {
          "base_uri": "https://localhost:8080/"
        },
        "id": "VdYjr_6AZO1Y",
        "outputId": "41389140-85d9-4a1a-b705-f21b25ea32a1"
      },
      "execution_count": null,
      "outputs": [
        {
          "output_type": "execute_result",
          "data": {
            "text/plain": [
              "array([1374.00, 1385.00, 1398.00, 1415.15, 1440.97, 1467.00, 1501.32,\n",
              "       1541.99, 1588.76, 1698.00, 100001015.00])"
            ]
          },
          "metadata": {},
          "execution_count": 27
        }
      ]
    },
    {
      "cell_type": "code",
      "source": [
        "print(len(data))\n",
        "data = data[data['selling_price']<2000] # removing row where selling_price>2000\n",
        "print(len(data))"
      ],
      "metadata": {
        "colab": {
          "base_uri": "https://localhost:8080/"
        },
        "id": "RpwpG_RYagwD",
        "outputId": "d723f3cb-b5c5-4376-c796-b060c9ab6d01"
      },
      "execution_count": null,
      "outputs": [
        {
          "output_type": "stream",
          "name": "stdout",
          "text": [
            "181673\n",
            "181630\n"
          ]
        }
      ]
    },
    {
      "cell_type": "code",
      "source": [
        "# train-test split\n",
        "from sklearn.model_selection import train_test_split\n",
        "X = data.drop(columns=['selling_price'])\n",
        "y = data.selling_price\n",
        "X_train, X_test, y_train, y_test = train_test_split(X, y, test_size=0.10,random_state=92)"
      ],
      "metadata": {
        "id": "yXLaX7b-bVur"
      },
      "execution_count": null,
      "outputs": []
    },
    {
      "cell_type": "code",
      "source": [
        "# we see from above plot that that some selling_price values are negative\n",
        "# sometimes kde plot extends to negative side, so checking..\n",
        "indx1 = y_train[y_train<0].index\n",
        "print(y_train[indx1],'\\n')\n",
        "indx2 = y_test[y_test<0].index\n",
        "print(y_test[indx2])"
      ],
      "metadata": {
        "colab": {
          "base_uri": "https://localhost:8080/"
        },
        "id": "XVUTuVmr7OLn",
        "outputId": "f360f007-6fd5-4dc4-9dc5-048551b1b907"
      },
      "execution_count": null,
      "outputs": [
        {
          "output_type": "stream",
          "name": "stdout",
          "text": [
            "44865     -25.0\n",
            "44761    -730.0\n",
            "28      -1160.0\n",
            "44810    -445.0\n",
            "Name: selling_price, dtype: float64 \n",
            "\n",
            "105189   -336.0\n",
            "Name: selling_price, dtype: float64\n"
          ]
        }
      ]
    },
    {
      "cell_type": "code",
      "source": [
        "#removing those rows\n",
        "X_train = X_train.drop(indx1)\n",
        "X_test = X_test.drop(indx2)\n",
        "y_train = y_train.drop(indx1)\n",
        "y_test = y_test.drop(indx2)"
      ],
      "metadata": {
        "id": "uqHQIRwr0-av"
      },
      "execution_count": null,
      "outputs": []
    },
    {
      "cell_type": "code",
      "source": [
        "X_train.shape , y_train.shape , X_test.shape , y_test.shape"
      ],
      "metadata": {
        "colab": {
          "base_uri": "https://localhost:8080/"
        },
        "id": "MEbGO3bo7_ib",
        "outputId": "c178ac93-4075-4fa2-a267-84e913e1e50d"
      },
      "execution_count": null,
      "outputs": [
        {
          "output_type": "execute_result",
          "data": {
            "text/plain": [
              "((163463, 13), (163463,), (18162, 13), (18162,))"
            ]
          },
          "metadata": {},
          "execution_count": 32
        }
      ]
    },
    {
      "cell_type": "code",
      "source": [
        "X_train = X_train.reset_index(drop=True)\n",
        "X_test = X_test.reset_index(drop=True)\n",
        "y_train = y_train.reset_index(drop=True)\n",
        "y_test = y_test.reset_index(drop=True)"
      ],
      "metadata": {
        "id": "coXrDSDXdhK0"
      },
      "execution_count": null,
      "outputs": []
    },
    {
      "cell_type": "code",
      "source": [
        "# getting rows where quantity is not float and -ve\n",
        "def index_notfloat(x):\n",
        "  index_qty_notfloat = []\n",
        "  for i in range(len(x)):\n",
        "    if type(x['quantity tons'][i]) != float or x['quantity tons'][i]<=0:\n",
        "      index_qty_notfloat.append(i)\n",
        "  return index_qty_notfloat\n",
        "\n",
        "index_train = index_notfloat(X_train)\n",
        "index_test = index_notfloat(X_test)"
      ],
      "metadata": {
        "id": "GVfHUmkLFELi"
      },
      "execution_count": null,
      "outputs": []
    },
    {
      "cell_type": "code",
      "source": [
        "X_train = X_train.drop(index_train , axis=0) # removing those rows\n",
        "y_train = y_train.drop(index_train , axis=0)\n",
        "X_test = X_test.drop(index_test , axis=0) \n",
        "y_test = y_test.drop(index_test , axis=0)"
      ],
      "metadata": {
        "id": "YpSNpLuMII4m"
      },
      "execution_count": null,
      "outputs": []
    },
    {
      "cell_type": "code",
      "source": [
        "X_train = X_train.reset_index(drop=True)\n",
        "y_train = y_train.reset_index(drop=True)\n",
        "X_test = X_test.reset_index(drop=True)\n",
        "y_test = y_test.reset_index(drop=True)"
      ],
      "metadata": {
        "id": "Qp9nUZ3guuRA"
      },
      "execution_count": null,
      "outputs": []
    },
    {
      "cell_type": "markdown",
      "source": [
        "### <font color='red'>Models:</font>"
      ],
      "metadata": {
        "id": "ztCwhXbli2Iy"
      }
    },
    {
      "cell_type": "code",
      "source": [
        "x = X_train.drop(columns=['id','item_date','customer','country','item type','material_ref'])"
      ],
      "metadata": {
        "id": "pIz-1MOs4ir7"
      },
      "execution_count": null,
      "outputs": []
    },
    {
      "cell_type": "code",
      "source": [
        "x.head(1)"
      ],
      "metadata": {
        "colab": {
          "base_uri": "https://localhost:8080/",
          "height": 81
        },
        "id": "yQNRgkT67A8I",
        "outputId": "22b2290c-0f5f-4314-f63a-13bd21e1ed0d"
      },
      "execution_count": null,
      "outputs": [
        {
          "output_type": "execute_result",
          "data": {
            "text/plain": [
              "  quantity tons status  application  thickness   width  product_ref  \\\n",
              "0    807.430973    Won         41.0        1.5  1250.0       640665   \n",
              "\n",
              "   delivery date  \n",
              "0     20210401.0  "
            ],
            "text/html": [
              "\n",
              "  <div id=\"df-fdb1ec8c-d584-48f0-9138-a3c1cf635b12\">\n",
              "    <div class=\"colab-df-container\">\n",
              "      <div>\n",
              "<style scoped>\n",
              "    .dataframe tbody tr th:only-of-type {\n",
              "        vertical-align: middle;\n",
              "    }\n",
              "\n",
              "    .dataframe tbody tr th {\n",
              "        vertical-align: top;\n",
              "    }\n",
              "\n",
              "    .dataframe thead th {\n",
              "        text-align: right;\n",
              "    }\n",
              "</style>\n",
              "<table border=\"1\" class=\"dataframe\">\n",
              "  <thead>\n",
              "    <tr style=\"text-align: right;\">\n",
              "      <th></th>\n",
              "      <th>quantity tons</th>\n",
              "      <th>status</th>\n",
              "      <th>application</th>\n",
              "      <th>thickness</th>\n",
              "      <th>width</th>\n",
              "      <th>product_ref</th>\n",
              "      <th>delivery date</th>\n",
              "    </tr>\n",
              "  </thead>\n",
              "  <tbody>\n",
              "    <tr>\n",
              "      <th>0</th>\n",
              "      <td>807.430973</td>\n",
              "      <td>Won</td>\n",
              "      <td>41.0</td>\n",
              "      <td>1.5</td>\n",
              "      <td>1250.0</td>\n",
              "      <td>640665</td>\n",
              "      <td>20210401.0</td>\n",
              "    </tr>\n",
              "  </tbody>\n",
              "</table>\n",
              "</div>\n",
              "      <button class=\"colab-df-convert\" onclick=\"convertToInteractive('df-fdb1ec8c-d584-48f0-9138-a3c1cf635b12')\"\n",
              "              title=\"Convert this dataframe to an interactive table.\"\n",
              "              style=\"display:none;\">\n",
              "        \n",
              "  <svg xmlns=\"http://www.w3.org/2000/svg\" height=\"24px\"viewBox=\"0 0 24 24\"\n",
              "       width=\"24px\">\n",
              "    <path d=\"M0 0h24v24H0V0z\" fill=\"none\"/>\n",
              "    <path d=\"M18.56 5.44l.94 2.06.94-2.06 2.06-.94-2.06-.94-.94-2.06-.94 2.06-2.06.94zm-11 1L8.5 8.5l.94-2.06 2.06-.94-2.06-.94L8.5 2.5l-.94 2.06-2.06.94zm10 10l.94 2.06.94-2.06 2.06-.94-2.06-.94-.94-2.06-.94 2.06-2.06.94z\"/><path d=\"M17.41 7.96l-1.37-1.37c-.4-.4-.92-.59-1.43-.59-.52 0-1.04.2-1.43.59L10.3 9.45l-7.72 7.72c-.78.78-.78 2.05 0 2.83L4 21.41c.39.39.9.59 1.41.59.51 0 1.02-.2 1.41-.59l7.78-7.78 2.81-2.81c.8-.78.8-2.07 0-2.86zM5.41 20L4 18.59l7.72-7.72 1.47 1.35L5.41 20z\"/>\n",
              "  </svg>\n",
              "      </button>\n",
              "      \n",
              "  <style>\n",
              "    .colab-df-container {\n",
              "      display:flex;\n",
              "      flex-wrap:wrap;\n",
              "      gap: 12px;\n",
              "    }\n",
              "\n",
              "    .colab-df-convert {\n",
              "      background-color: #E8F0FE;\n",
              "      border: none;\n",
              "      border-radius: 50%;\n",
              "      cursor: pointer;\n",
              "      display: none;\n",
              "      fill: #1967D2;\n",
              "      height: 32px;\n",
              "      padding: 0 0 0 0;\n",
              "      width: 32px;\n",
              "    }\n",
              "\n",
              "    .colab-df-convert:hover {\n",
              "      background-color: #E2EBFA;\n",
              "      box-shadow: 0px 1px 2px rgba(60, 64, 67, 0.3), 0px 1px 3px 1px rgba(60, 64, 67, 0.15);\n",
              "      fill: #174EA6;\n",
              "    }\n",
              "\n",
              "    [theme=dark] .colab-df-convert {\n",
              "      background-color: #3B4455;\n",
              "      fill: #D2E3FC;\n",
              "    }\n",
              "\n",
              "    [theme=dark] .colab-df-convert:hover {\n",
              "      background-color: #434B5C;\n",
              "      box-shadow: 0px 1px 3px 1px rgba(0, 0, 0, 0.15);\n",
              "      filter: drop-shadow(0px 1px 2px rgba(0, 0, 0, 0.3));\n",
              "      fill: #FFFFFF;\n",
              "    }\n",
              "  </style>\n",
              "\n",
              "      <script>\n",
              "        const buttonEl =\n",
              "          document.querySelector('#df-fdb1ec8c-d584-48f0-9138-a3c1cf635b12 button.colab-df-convert');\n",
              "        buttonEl.style.display =\n",
              "          google.colab.kernel.accessAllowed ? 'block' : 'none';\n",
              "\n",
              "        async function convertToInteractive(key) {\n",
              "          const element = document.querySelector('#df-fdb1ec8c-d584-48f0-9138-a3c1cf635b12');\n",
              "          const dataTable =\n",
              "            await google.colab.kernel.invokeFunction('convertToInteractive',\n",
              "                                                     [key], {});\n",
              "          if (!dataTable) return;\n",
              "\n",
              "          const docLinkHtml = 'Like what you see? Visit the ' +\n",
              "            '<a target=\"_blank\" href=https://colab.research.google.com/notebooks/data_table.ipynb>data table notebook</a>'\n",
              "            + ' to learn more about interactive tables.';\n",
              "          element.innerHTML = '';\n",
              "          dataTable['output_type'] = 'display_data';\n",
              "          await google.colab.output.renderOutput(dataTable, element);\n",
              "          const docLink = document.createElement('div');\n",
              "          docLink.innerHTML = docLinkHtml;\n",
              "          element.appendChild(docLink);\n",
              "        }\n",
              "      </script>\n",
              "    </div>\n",
              "  </div>\n",
              "  "
            ]
          },
          "metadata": {},
          "execution_count": 203
        }
      ]
    },
    {
      "cell_type": "code",
      "source": [
        "xy = x.join(y_train)\n",
        "xy = xy.dropna()"
      ],
      "metadata": {
        "id": "izvSJJ-ccnvq"
      },
      "execution_count": null,
      "outputs": []
    },
    {
      "cell_type": "code",
      "source": [
        "x=xy.drop(columns=['selling_price'])\n",
        "y=xy.selling_price"
      ],
      "metadata": {
        "id": "ZEEFcQFqc-d_"
      },
      "execution_count": null,
      "outputs": []
    },
    {
      "cell_type": "code",
      "source": [
        "len(x),len(y)"
      ],
      "metadata": {
        "colab": {
          "base_uri": "https://localhost:8080/"
        },
        "id": "axQ0Cvek9CTU",
        "outputId": "c155a550-0b39-4f01-f991-818294b1bc42"
      },
      "execution_count": null,
      "outputs": [
        {
          "output_type": "execute_result",
          "data": {
            "text/plain": [
              "(163453, 163453)"
            ]
          },
          "metadata": {},
          "execution_count": 226
        }
      ]
    },
    {
      "cell_type": "code",
      "source": [
        "from sklearn.compose import make_column_transformer\n",
        "from sklearn.preprocessing import OneHotEncoder\n",
        "from sklearn.preprocessing import PowerTransformer\n",
        "\n",
        "from sklearn.metrics import r2_score\n",
        "\n",
        "from xgboost import XGBRegressor\n",
        "from sklearn.tree import DecisionTreeRegressor\n",
        "from sklearn.linear_model import SGDRegressor\n",
        "from sklearn.pipeline import make_pipeline\n",
        "\n",
        "from sklearn.model_selection import GridSearchCV"
      ],
      "metadata": {
        "id": "LSmpS1TCu8-m"
      },
      "execution_count": null,
      "outputs": []
    },
    {
      "cell_type": "code",
      "source": [
        "x.head(0)"
      ],
      "metadata": {
        "id": "qmOf1xd8-r7v",
        "colab": {
          "base_uri": "https://localhost:8080/",
          "height": 49
        },
        "outputId": "0feb8e9e-bc1f-4fe7-f583-c9892ad99019"
      },
      "execution_count": null,
      "outputs": [
        {
          "output_type": "execute_result",
          "data": {
            "text/plain": [
              "Empty DataFrame\n",
              "Columns: [quantity tons, status, application, thickness, width, product_ref, delivery date]\n",
              "Index: []"
            ],
            "text/html": [
              "\n",
              "  <div id=\"df-6111749a-4a2c-4b61-ae46-f04c119f8926\">\n",
              "    <div class=\"colab-df-container\">\n",
              "      <div>\n",
              "<style scoped>\n",
              "    .dataframe tbody tr th:only-of-type {\n",
              "        vertical-align: middle;\n",
              "    }\n",
              "\n",
              "    .dataframe tbody tr th {\n",
              "        vertical-align: top;\n",
              "    }\n",
              "\n",
              "    .dataframe thead th {\n",
              "        text-align: right;\n",
              "    }\n",
              "</style>\n",
              "<table border=\"1\" class=\"dataframe\">\n",
              "  <thead>\n",
              "    <tr style=\"text-align: right;\">\n",
              "      <th></th>\n",
              "      <th>quantity tons</th>\n",
              "      <th>status</th>\n",
              "      <th>application</th>\n",
              "      <th>thickness</th>\n",
              "      <th>width</th>\n",
              "      <th>product_ref</th>\n",
              "      <th>delivery date</th>\n",
              "    </tr>\n",
              "  </thead>\n",
              "  <tbody>\n",
              "  </tbody>\n",
              "</table>\n",
              "</div>\n",
              "      <button class=\"colab-df-convert\" onclick=\"convertToInteractive('df-6111749a-4a2c-4b61-ae46-f04c119f8926')\"\n",
              "              title=\"Convert this dataframe to an interactive table.\"\n",
              "              style=\"display:none;\">\n",
              "        \n",
              "  <svg xmlns=\"http://www.w3.org/2000/svg\" height=\"24px\"viewBox=\"0 0 24 24\"\n",
              "       width=\"24px\">\n",
              "    <path d=\"M0 0h24v24H0V0z\" fill=\"none\"/>\n",
              "    <path d=\"M18.56 5.44l.94 2.06.94-2.06 2.06-.94-2.06-.94-.94-2.06-.94 2.06-2.06.94zm-11 1L8.5 8.5l.94-2.06 2.06-.94-2.06-.94L8.5 2.5l-.94 2.06-2.06.94zm10 10l.94 2.06.94-2.06 2.06-.94-2.06-.94-.94-2.06-.94 2.06-2.06.94z\"/><path d=\"M17.41 7.96l-1.37-1.37c-.4-.4-.92-.59-1.43-.59-.52 0-1.04.2-1.43.59L10.3 9.45l-7.72 7.72c-.78.78-.78 2.05 0 2.83L4 21.41c.39.39.9.59 1.41.59.51 0 1.02-.2 1.41-.59l7.78-7.78 2.81-2.81c.8-.78.8-2.07 0-2.86zM5.41 20L4 18.59l7.72-7.72 1.47 1.35L5.41 20z\"/>\n",
              "  </svg>\n",
              "      </button>\n",
              "      \n",
              "  <style>\n",
              "    .colab-df-container {\n",
              "      display:flex;\n",
              "      flex-wrap:wrap;\n",
              "      gap: 12px;\n",
              "    }\n",
              "\n",
              "    .colab-df-convert {\n",
              "      background-color: #E8F0FE;\n",
              "      border: none;\n",
              "      border-radius: 50%;\n",
              "      cursor: pointer;\n",
              "      display: none;\n",
              "      fill: #1967D2;\n",
              "      height: 32px;\n",
              "      padding: 0 0 0 0;\n",
              "      width: 32px;\n",
              "    }\n",
              "\n",
              "    .colab-df-convert:hover {\n",
              "      background-color: #E2EBFA;\n",
              "      box-shadow: 0px 1px 2px rgba(60, 64, 67, 0.3), 0px 1px 3px 1px rgba(60, 64, 67, 0.15);\n",
              "      fill: #174EA6;\n",
              "    }\n",
              "\n",
              "    [theme=dark] .colab-df-convert {\n",
              "      background-color: #3B4455;\n",
              "      fill: #D2E3FC;\n",
              "    }\n",
              "\n",
              "    [theme=dark] .colab-df-convert:hover {\n",
              "      background-color: #434B5C;\n",
              "      box-shadow: 0px 1px 3px 1px rgba(0, 0, 0, 0.15);\n",
              "      filter: drop-shadow(0px 1px 2px rgba(0, 0, 0, 0.3));\n",
              "      fill: #FFFFFF;\n",
              "    }\n",
              "  </style>\n",
              "\n",
              "      <script>\n",
              "        const buttonEl =\n",
              "          document.querySelector('#df-6111749a-4a2c-4b61-ae46-f04c119f8926 button.colab-df-convert');\n",
              "        buttonEl.style.display =\n",
              "          google.colab.kernel.accessAllowed ? 'block' : 'none';\n",
              "\n",
              "        async function convertToInteractive(key) {\n",
              "          const element = document.querySelector('#df-6111749a-4a2c-4b61-ae46-f04c119f8926');\n",
              "          const dataTable =\n",
              "            await google.colab.kernel.invokeFunction('convertToInteractive',\n",
              "                                                     [key], {});\n",
              "          if (!dataTable) return;\n",
              "\n",
              "          const docLinkHtml = 'Like what you see? Visit the ' +\n",
              "            '<a target=\"_blank\" href=https://colab.research.google.com/notebooks/data_table.ipynb>data table notebook</a>'\n",
              "            + ' to learn more about interactive tables.';\n",
              "          element.innerHTML = '';\n",
              "          dataTable['output_type'] = 'display_data';\n",
              "          await google.colab.output.renderOutput(dataTable, element);\n",
              "          const docLink = document.createElement('div');\n",
              "          docLink.innerHTML = docLinkHtml;\n",
              "          element.appendChild(docLink);\n",
              "        }\n",
              "      </script>\n",
              "    </div>\n",
              "  </div>\n",
              "  "
            ]
          },
          "metadata": {},
          "execution_count": 204
        }
      ]
    },
    {
      "cell_type": "code",
      "source": [
        "transform = make_column_transformer(\n",
        "    (PowerTransformer(method='yeo-johnson') , (0,3,4)),\n",
        "    (OneHotEncoder(handle_unknown='ignore',drop='first') , (1,2,5,6))\n",
        "    )"
      ],
      "metadata": {
        "id": "QLSl0LlUvUCh"
      },
      "execution_count": null,
      "outputs": []
    },
    {
      "cell_type": "code",
      "source": [
        "transform.fit_transform(x)"
      ],
      "metadata": {
        "colab": {
          "base_uri": "https://localhost:8080/"
        },
        "id": "83Rr9-iSw0UM",
        "outputId": "2ec8f958-ec1a-4c35-fbcb-0e0ffb8ddad3"
      },
      "execution_count": null,
      "outputs": [
        {
          "output_type": "execute_result",
          "data": {
            "text/plain": [
              "<163434x98 sparse matrix of type '<class 'numpy.float64'>'\n",
              "\twith 1141086 stored elements in Compressed Sparse Row format>"
            ]
          },
          "metadata": {},
          "execution_count": 119
        }
      ]
    },
    {
      "cell_type": "markdown",
      "source": [
        "**Linear Regression:**"
      ],
      "metadata": {
        "id": "UM4Yt-TdQjbj"
      }
    },
    {
      "cell_type": "code",
      "source": [
        "pipe_lr = make_pipeline( transform , SGDRegressor() ) #making pipeline to avoid data leakage during cv split\n",
        "params_lr = {'sgdregressor__alpha':[0.0001,0.005,0.001,0.05,0.01,0.1,0.5,1]} #hyperparameters\n",
        "                      \n",
        "clf_lr = GridSearchCV( pipe_lr, params_lr, cv=3, return_train_score=True, refit=False,scoring='r2', verbose=4) \n",
        "clf_lr.fit(x,y)"
      ],
      "metadata": {
        "colab": {
          "base_uri": "https://localhost:8080/",
          "height": 652
        },
        "id": "7naNuzqnQpu9",
        "outputId": "63110ce3-1dc0-4fde-8244-d8e5c496968f"
      },
      "execution_count": null,
      "outputs": [
        {
          "output_type": "stream",
          "name": "stdout",
          "text": [
            "Fitting 3 folds for each of 8 candidates, totalling 24 fits\n",
            "[CV 1/3] END sgdregressor__alpha=0.0001;, score=(train=0.831, test=0.831) total time=   5.2s\n",
            "[CV 2/3] END sgdregressor__alpha=0.0001;, score=(train=0.830, test=0.831) total time=   3.4s\n",
            "[CV 3/3] END sgdregressor__alpha=0.0001;, score=(train=0.832, test=0.829) total time=   5.6s\n",
            "[CV 1/3] END sgdregressor__alpha=0.005;, score=(train=0.755, test=0.755) total time=   0.9s\n",
            "[CV 2/3] END sgdregressor__alpha=0.005;, score=(train=0.755, test=0.757) total time=   1.3s\n",
            "[CV 3/3] END sgdregressor__alpha=0.005;, score=(train=0.756, test=0.753) total time=   1.5s\n",
            "[CV 1/3] END sgdregressor__alpha=0.001;, score=(train=0.814, test=0.814) total time=   2.3s\n",
            "[CV 2/3] END sgdregressor__alpha=0.001;, score=(train=0.814, test=0.816) total time=   3.4s\n",
            "[CV 3/3] END sgdregressor__alpha=0.001;, score=(train=0.815, test=0.812) total time=   2.6s\n",
            "[CV 1/3] END sgdregressor__alpha=0.05;, score=(train=0.548, test=0.549) total time=   2.8s\n",
            "[CV 2/3] END sgdregressor__alpha=0.05;, score=(train=0.547, test=0.546) total time=   1.8s\n",
            "[CV 3/3] END sgdregressor__alpha=0.05;, score=(train=0.548, test=0.547) total time=   2.0s\n",
            "[CV 1/3] END sgdregressor__alpha=0.01;, score=(train=0.708, test=0.709) total time=   2.5s\n",
            "[CV 2/3] END sgdregressor__alpha=0.01;, score=(train=0.707, test=0.709) total time=   1.6s\n",
            "[CV 3/3] END sgdregressor__alpha=0.01;, score=(train=0.709, test=0.705) total time=   1.4s\n",
            "[CV 1/3] END sgdregressor__alpha=0.1;, score=(train=0.469, test=0.470) total time=   2.1s\n",
            "[CV 2/3] END sgdregressor__alpha=0.1;, score=(train=0.468, test=0.466) total time=   1.9s\n",
            "[CV 3/3] END sgdregressor__alpha=0.1;, score=(train=0.467, test=0.467) total time=   2.1s\n",
            "[CV 1/3] END sgdregressor__alpha=0.5;, score=(train=0.280, test=0.282) total time=   2.3s\n",
            "[CV 2/3] END sgdregressor__alpha=0.5;, score=(train=0.287, test=0.284) total time=   2.3s\n",
            "[CV 3/3] END sgdregressor__alpha=0.5;, score=(train=0.287, test=0.288) total time=   1.7s\n",
            "[CV 1/3] END sgdregressor__alpha=1;, score=(train=0.208, test=0.209) total time=   3.6s\n",
            "[CV 2/3] END sgdregressor__alpha=1;, score=(train=0.216, test=0.213) total time=   1.3s\n",
            "[CV 3/3] END sgdregressor__alpha=1;, score=(train=0.211, test=0.212) total time=   1.1s\n"
          ]
        },
        {
          "output_type": "execute_result",
          "data": {
            "text/plain": [
              "GridSearchCV(cv=3,\n",
              "             estimator=Pipeline(steps=[('columntransformer',\n",
              "                                        ColumnTransformer(transformers=[('powertransformer',\n",
              "                                                                         PowerTransformer(),\n",
              "                                                                         (0, 3,\n",
              "                                                                          4)),\n",
              "                                                                        ('onehotencoder',\n",
              "                                                                         OneHotEncoder(drop='first',\n",
              "                                                                                       handle_unknown='ignore'),\n",
              "                                                                         (1, 2,\n",
              "                                                                          5,\n",
              "                                                                          6))])),\n",
              "                                       ('sgdregressor', SGDRegressor())]),\n",
              "             param_grid={'sgdregressor__alpha': [0.0001, 0.005, 0.001, 0.05,\n",
              "                                                 0.01, 0.1, 0.5, 1]},\n",
              "             refit=False, return_train_score=True, scoring='r2', verbose=4)"
            ],
            "text/html": [
              "<style>#sk-container-id-1 {color: black;background-color: white;}#sk-container-id-1 pre{padding: 0;}#sk-container-id-1 div.sk-toggleable {background-color: white;}#sk-container-id-1 label.sk-toggleable__label {cursor: pointer;display: block;width: 100%;margin-bottom: 0;padding: 0.3em;box-sizing: border-box;text-align: center;}#sk-container-id-1 label.sk-toggleable__label-arrow:before {content: \"▸\";float: left;margin-right: 0.25em;color: #696969;}#sk-container-id-1 label.sk-toggleable__label-arrow:hover:before {color: black;}#sk-container-id-1 div.sk-estimator:hover label.sk-toggleable__label-arrow:before {color: black;}#sk-container-id-1 div.sk-toggleable__content {max-height: 0;max-width: 0;overflow: hidden;text-align: left;background-color: #f0f8ff;}#sk-container-id-1 div.sk-toggleable__content pre {margin: 0.2em;color: black;border-radius: 0.25em;background-color: #f0f8ff;}#sk-container-id-1 input.sk-toggleable__control:checked~div.sk-toggleable__content {max-height: 200px;max-width: 100%;overflow: auto;}#sk-container-id-1 input.sk-toggleable__control:checked~label.sk-toggleable__label-arrow:before {content: \"▾\";}#sk-container-id-1 div.sk-estimator input.sk-toggleable__control:checked~label.sk-toggleable__label {background-color: #d4ebff;}#sk-container-id-1 div.sk-label input.sk-toggleable__control:checked~label.sk-toggleable__label {background-color: #d4ebff;}#sk-container-id-1 input.sk-hidden--visually {border: 0;clip: rect(1px 1px 1px 1px);clip: rect(1px, 1px, 1px, 1px);height: 1px;margin: -1px;overflow: hidden;padding: 0;position: absolute;width: 1px;}#sk-container-id-1 div.sk-estimator {font-family: monospace;background-color: #f0f8ff;border: 1px dotted black;border-radius: 0.25em;box-sizing: border-box;margin-bottom: 0.5em;}#sk-container-id-1 div.sk-estimator:hover {background-color: #d4ebff;}#sk-container-id-1 div.sk-parallel-item::after {content: \"\";width: 100%;border-bottom: 1px solid gray;flex-grow: 1;}#sk-container-id-1 div.sk-label:hover label.sk-toggleable__label {background-color: #d4ebff;}#sk-container-id-1 div.sk-serial::before {content: \"\";position: absolute;border-left: 1px solid gray;box-sizing: border-box;top: 0;bottom: 0;left: 50%;z-index: 0;}#sk-container-id-1 div.sk-serial {display: flex;flex-direction: column;align-items: center;background-color: white;padding-right: 0.2em;padding-left: 0.2em;position: relative;}#sk-container-id-1 div.sk-item {position: relative;z-index: 1;}#sk-container-id-1 div.sk-parallel {display: flex;align-items: stretch;justify-content: center;background-color: white;position: relative;}#sk-container-id-1 div.sk-item::before, #sk-container-id-1 div.sk-parallel-item::before {content: \"\";position: absolute;border-left: 1px solid gray;box-sizing: border-box;top: 0;bottom: 0;left: 50%;z-index: -1;}#sk-container-id-1 div.sk-parallel-item {display: flex;flex-direction: column;z-index: 1;position: relative;background-color: white;}#sk-container-id-1 div.sk-parallel-item:first-child::after {align-self: flex-end;width: 50%;}#sk-container-id-1 div.sk-parallel-item:last-child::after {align-self: flex-start;width: 50%;}#sk-container-id-1 div.sk-parallel-item:only-child::after {width: 0;}#sk-container-id-1 div.sk-dashed-wrapped {border: 1px dashed gray;margin: 0 0.4em 0.5em 0.4em;box-sizing: border-box;padding-bottom: 0.4em;background-color: white;}#sk-container-id-1 div.sk-label label {font-family: monospace;font-weight: bold;display: inline-block;line-height: 1.2em;}#sk-container-id-1 div.sk-label-container {text-align: center;}#sk-container-id-1 div.sk-container {/* jupyter's `normalize.less` sets `[hidden] { display: none; }` but bootstrap.min.css set `[hidden] { display: none !important; }` so we also need the `!important` here to be able to override the default hidden behavior on the sphinx rendered scikit-learn.org. See: https://github.com/scikit-learn/scikit-learn/issues/21755 */display: inline-block !important;position: relative;}#sk-container-id-1 div.sk-text-repr-fallback {display: none;}</style><div id=\"sk-container-id-1\" class=\"sk-top-container\"><div class=\"sk-text-repr-fallback\"><pre>GridSearchCV(cv=3,\n",
              "             estimator=Pipeline(steps=[(&#x27;columntransformer&#x27;,\n",
              "                                        ColumnTransformer(transformers=[(&#x27;powertransformer&#x27;,\n",
              "                                                                         PowerTransformer(),\n",
              "                                                                         (0, 3,\n",
              "                                                                          4)),\n",
              "                                                                        (&#x27;onehotencoder&#x27;,\n",
              "                                                                         OneHotEncoder(drop=&#x27;first&#x27;,\n",
              "                                                                                       handle_unknown=&#x27;ignore&#x27;),\n",
              "                                                                         (1, 2,\n",
              "                                                                          5,\n",
              "                                                                          6))])),\n",
              "                                       (&#x27;sgdregressor&#x27;, SGDRegressor())]),\n",
              "             param_grid={&#x27;sgdregressor__alpha&#x27;: [0.0001, 0.005, 0.001, 0.05,\n",
              "                                                 0.01, 0.1, 0.5, 1]},\n",
              "             refit=False, return_train_score=True, scoring=&#x27;r2&#x27;, verbose=4)</pre><b>In a Jupyter environment, please rerun this cell to show the HTML representation or trust the notebook. <br />On GitHub, the HTML representation is unable to render, please try loading this page with nbviewer.org.</b></div><div class=\"sk-container\" hidden><div class=\"sk-item sk-dashed-wrapped\"><div class=\"sk-label-container\"><div class=\"sk-label sk-toggleable\"><input class=\"sk-toggleable__control sk-hidden--visually\" id=\"sk-estimator-id-1\" type=\"checkbox\" ><label for=\"sk-estimator-id-1\" class=\"sk-toggleable__label sk-toggleable__label-arrow\">GridSearchCV</label><div class=\"sk-toggleable__content\"><pre>GridSearchCV(cv=3,\n",
              "             estimator=Pipeline(steps=[(&#x27;columntransformer&#x27;,\n",
              "                                        ColumnTransformer(transformers=[(&#x27;powertransformer&#x27;,\n",
              "                                                                         PowerTransformer(),\n",
              "                                                                         (0, 3,\n",
              "                                                                          4)),\n",
              "                                                                        (&#x27;onehotencoder&#x27;,\n",
              "                                                                         OneHotEncoder(drop=&#x27;first&#x27;,\n",
              "                                                                                       handle_unknown=&#x27;ignore&#x27;),\n",
              "                                                                         (1, 2,\n",
              "                                                                          5,\n",
              "                                                                          6))])),\n",
              "                                       (&#x27;sgdregressor&#x27;, SGDRegressor())]),\n",
              "             param_grid={&#x27;sgdregressor__alpha&#x27;: [0.0001, 0.005, 0.001, 0.05,\n",
              "                                                 0.01, 0.1, 0.5, 1]},\n",
              "             refit=False, return_train_score=True, scoring=&#x27;r2&#x27;, verbose=4)</pre></div></div></div><div class=\"sk-parallel\"><div class=\"sk-parallel-item\"><div class=\"sk-item\"><div class=\"sk-label-container\"><div class=\"sk-label sk-toggleable\"><input class=\"sk-toggleable__control sk-hidden--visually\" id=\"sk-estimator-id-2\" type=\"checkbox\" ><label for=\"sk-estimator-id-2\" class=\"sk-toggleable__label sk-toggleable__label-arrow\">estimator: Pipeline</label><div class=\"sk-toggleable__content\"><pre>Pipeline(steps=[(&#x27;columntransformer&#x27;,\n",
              "                 ColumnTransformer(transformers=[(&#x27;powertransformer&#x27;,\n",
              "                                                  PowerTransformer(),\n",
              "                                                  (0, 3, 4)),\n",
              "                                                 (&#x27;onehotencoder&#x27;,\n",
              "                                                  OneHotEncoder(drop=&#x27;first&#x27;,\n",
              "                                                                handle_unknown=&#x27;ignore&#x27;),\n",
              "                                                  (1, 2, 5, 6))])),\n",
              "                (&#x27;sgdregressor&#x27;, SGDRegressor())])</pre></div></div></div><div class=\"sk-serial\"><div class=\"sk-item\"><div class=\"sk-serial\"><div class=\"sk-item sk-dashed-wrapped\"><div class=\"sk-label-container\"><div class=\"sk-label sk-toggleable\"><input class=\"sk-toggleable__control sk-hidden--visually\" id=\"sk-estimator-id-3\" type=\"checkbox\" ><label for=\"sk-estimator-id-3\" class=\"sk-toggleable__label sk-toggleable__label-arrow\">columntransformer: ColumnTransformer</label><div class=\"sk-toggleable__content\"><pre>ColumnTransformer(transformers=[(&#x27;powertransformer&#x27;, PowerTransformer(),\n",
              "                                 (0, 3, 4)),\n",
              "                                (&#x27;onehotencoder&#x27;,\n",
              "                                 OneHotEncoder(drop=&#x27;first&#x27;,\n",
              "                                               handle_unknown=&#x27;ignore&#x27;),\n",
              "                                 (1, 2, 5, 6))])</pre></div></div></div><div class=\"sk-parallel\"><div class=\"sk-parallel-item\"><div class=\"sk-item\"><div class=\"sk-label-container\"><div class=\"sk-label sk-toggleable\"><input class=\"sk-toggleable__control sk-hidden--visually\" id=\"sk-estimator-id-4\" type=\"checkbox\" ><label for=\"sk-estimator-id-4\" class=\"sk-toggleable__label sk-toggleable__label-arrow\">powertransformer</label><div class=\"sk-toggleable__content\"><pre>(0, 3, 4)</pre></div></div></div><div class=\"sk-serial\"><div class=\"sk-item\"><div class=\"sk-estimator sk-toggleable\"><input class=\"sk-toggleable__control sk-hidden--visually\" id=\"sk-estimator-id-5\" type=\"checkbox\" ><label for=\"sk-estimator-id-5\" class=\"sk-toggleable__label sk-toggleable__label-arrow\">PowerTransformer</label><div class=\"sk-toggleable__content\"><pre>PowerTransformer()</pre></div></div></div></div></div></div><div class=\"sk-parallel-item\"><div class=\"sk-item\"><div class=\"sk-label-container\"><div class=\"sk-label sk-toggleable\"><input class=\"sk-toggleable__control sk-hidden--visually\" id=\"sk-estimator-id-6\" type=\"checkbox\" ><label for=\"sk-estimator-id-6\" class=\"sk-toggleable__label sk-toggleable__label-arrow\">onehotencoder</label><div class=\"sk-toggleable__content\"><pre>(1, 2, 5, 6)</pre></div></div></div><div class=\"sk-serial\"><div class=\"sk-item\"><div class=\"sk-estimator sk-toggleable\"><input class=\"sk-toggleable__control sk-hidden--visually\" id=\"sk-estimator-id-7\" type=\"checkbox\" ><label for=\"sk-estimator-id-7\" class=\"sk-toggleable__label sk-toggleable__label-arrow\">OneHotEncoder</label><div class=\"sk-toggleable__content\"><pre>OneHotEncoder(drop=&#x27;first&#x27;, handle_unknown=&#x27;ignore&#x27;)</pre></div></div></div></div></div></div></div></div><div class=\"sk-item\"><div class=\"sk-estimator sk-toggleable\"><input class=\"sk-toggleable__control sk-hidden--visually\" id=\"sk-estimator-id-8\" type=\"checkbox\" ><label for=\"sk-estimator-id-8\" class=\"sk-toggleable__label sk-toggleable__label-arrow\">SGDRegressor</label><div class=\"sk-toggleable__content\"><pre>SGDRegressor()</pre></div></div></div></div></div></div></div></div></div></div></div></div>"
            ]
          },
          "metadata": {},
          "execution_count": 124
        }
      ]
    },
    {
      "cell_type": "code",
      "source": [
        "sns.set_style(\"whitegrid\")\n",
        "plt.figure(figsize=(12,7))\n",
        "sns.lineplot(x=np.arange(len(params_lr['sgdregressor__alpha'])), y=clf_lr.cv_results_['mean_train_score'], label='mean train r2 score')\n",
        "sns.lineplot(x=np.arange(len(params_lr['sgdregressor__alpha'])), y=clf_lr.cv_results_['mean_test_score'], label='mean cv r2 score')\n",
        "plt.xticks(np.arange(len(params_lr['sgdregressor__alpha'])), labels=params_lr['sgdregressor__alpha'])\n",
        "plt.tick_params(labelright=True)\n",
        "plt.xlabel('sgdregressor - alpha')\n",
        "plt.ylabel('mean train and cv r2 score')\n",
        "plt.title('Train & CV curve for hyperparameter selection')\n",
        "plt.legend()\n",
        "plt.show()"
      ],
      "metadata": {
        "colab": {
          "base_uri": "https://localhost:8080/",
          "height": 458
        },
        "id": "JZlO6M9EQ8qV",
        "outputId": "fe6c758b-bdce-4c53-9458-c08c7c3df4bc"
      },
      "execution_count": null,
      "outputs": [
        {
          "output_type": "display_data",
          "data": {
            "text/plain": [
              "<Figure size 864x504 with 1 Axes>"
            ],
            "image/png": "[encoded data removed]"
          },
          "metadata": {}
        }
      ]
    },
    {
      "cell_type": "markdown",
      "source": [
        "Training on whole train data with selected best hyperparameter and getting r2 score for test set."
      ],
      "metadata": {
        "id": "YF85zncoRjfV"
      }
    },
    {
      "cell_type": "code",
      "source": [
        "clf_lr.cv_results_['mean_train_score'][0], clf_lr.cv_results_['mean_test_score'][0]"
      ],
      "metadata": {
        "colab": {
          "base_uri": "https://localhost:8080/"
        },
        "id": "5rxfqrdDi_eA",
        "outputId": "8a98a334-e6a1-4cec-a1f2-310f70c6fc32"
      },
      "execution_count": null,
      "outputs": [
        {
          "output_type": "execute_result",
          "data": {
            "text/plain": [
              "(0.8308666546382172, 0.8306093446769133)"
            ]
          },
          "metadata": {},
          "execution_count": 169
        }
      ]
    },
    {
      "cell_type": "code",
      "source": [
        "x_test = X_test.drop(columns=['id','item_date','customer','country','item type','material_ref'])\n",
        "x_test = x_test.dropna()\n",
        "y_test_ = y_test.values[x_test.index]"
      ],
      "metadata": {
        "id": "uAsgc9xlLlaz"
      },
      "execution_count": null,
      "outputs": []
    },
    {
      "cell_type": "code",
      "source": [
        "pipe_lr.set_params(**clf_lr.cv_results_['params'][0] ) #selecting hyperparameter alpha=0.0001\n",
        "pipe_lr.fit(x,y)\n",
        "y_predict_train = pipe_lr.predict(x)\n",
        "y_predict_test = pipe_lr.predict(x_test)\n",
        "r2_train = r2_score(y, y_predict_train )\n",
        "r2_test = r2_score(y_test_, y_predict_test )\n",
        "print('Train R2 Score:', r2_train)\n",
        "print('Test R2 Score:', r2_test )"
      ],
      "metadata": {
        "colab": {
          "base_uri": "https://localhost:8080/"
        },
        "outputId": "86fc238a-638c-49ae-b688-257d920f8275",
        "id": "H673p0WXLlaz"
      },
      "execution_count": null,
      "outputs": [
        {
          "output_type": "stream",
          "name": "stdout",
          "text": [
            "Train R2 Score: 0.8312641744603999\n",
            "Test R2 Score: 0.8274677528682686\n"
          ]
        }
      ]
    },
    {
      "cell_type": "markdown",
      "source": [
        "**Feature Importance:**"
      ],
      "metadata": {
        "id": "gfVt83SUREQ1"
      }
    },
    {
      "cell_type": "code",
      "source": [
        "weights_lr = abs(pipe_lr.named_steps.sgdregressor.coef_)\n",
        "weights_lr_sort = np.argsort(weights_lr)[::-1]\n",
        "onehot_features = pipe_lr.named_steps.columntransformer.transformers_[1][1].get_feature_names_out()"
      ],
      "metadata": {
        "id": "Yi6jI9WpMANp"
      },
      "execution_count": null,
      "outputs": []
    },
    {
      "cell_type": "code",
      "source": [
        "onehot_features[weights_lr_sort[np.where(weights_lr_sort>2)[0]]-3][:20] , weights_lr[weights_lr_sort[np.where(weights_lr_sort>2)[0]]][:20]"
      ],
      "metadata": {
        "colab": {
          "base_uri": "https://localhost:8080/"
        },
        "id": "8Yqv64vnRZPg",
        "outputId": "04449d32-44fb-4a45-95af-f896e3850f87"
      },
      "execution_count": null,
      "outputs": [
        {
          "output_type": "execute_result",
          "data": {
            "text/plain": [
              "(array(['status_Revised', 'status_Not lost for AM', 'status_Won',\n",
              "        'status_Lost', 'status_To be approved', 'status_Offered',\n",
              "        'delivery date_20211001.0', 'delivery date_20210901.0',\n",
              "        'product_ref_1721130331', 'delivery date_20210801.0',\n",
              "        'delivery date_20200801.0', 'status_Offerable',\n",
              "        'delivery date_20200901.0', 'delivery date_20210701.0',\n",
              "        'delivery date_20200701.0', 'delivery date_20210601.0',\n",
              "        'product_ref_640665', 'delivery date_20210501.0',\n",
              "        'delivery date_20201001.0', 'delivery date_20201101.0'],\n",
              "       dtype=object),\n",
              " array([882.60, 882.06, 876.16, 873.65, 828.87, 646.90, 341.40, 276.44,\n",
              "        228.63, 220.90, 188.39, 186.65, 183.77, 182.17, 163.88, 150.02,\n",
              "        137.15, 133.57, 131.29, 130.18]))"
            ]
          },
          "metadata": {},
          "execution_count": 129
        }
      ]
    },
    {
      "cell_type": "code",
      "source": [
        "# top 10 important features\n",
        "l=pd.DataFrame()\n",
        "l['feature'] = onehot_features[weights_lr_sort[np.where(weights_lr_sort>2)[0]]-3][:10]\n",
        "l['weights'] = weights_lr[weights_lr_sort[np.where(weights_lr_sort>2)[0]]][:10]\n",
        "l"
      ],
      "metadata": {
        "colab": {
          "base_uri": "https://localhost:8080/",
          "height": 363
        },
        "id": "Gx1tHsLJOc0E",
        "outputId": "1d97b08d-f9b5-4aac-d049-e77fa3fa21a2"
      },
      "execution_count": null,
      "outputs": [
        {
          "output_type": "execute_result",
          "data": {
            "text/plain": [
              "                    feature     weights\n",
              "0            status_Revised  882.599576\n",
              "1    status_Not lost for AM  882.062112\n",
              "2                status_Won  876.160532\n",
              "3               status_Lost  873.645612\n",
              "4     status_To be approved  828.870774\n",
              "5            status_Offered  646.896186\n",
              "6  delivery date_20211001.0  341.402807\n",
              "7  delivery date_20210901.0  276.438763\n",
              "8    product_ref_1721130331  228.630275\n",
              "9  delivery date_20210801.0  220.896360"
            ],
            "text/html": [
              "\n",
              "  <div id=\"df-a8749b03-f599-4eda-858b-4d87a5220544\">\n",
              "    <div class=\"colab-df-container\">\n",
              "      <div>\n",
              "<style scoped>\n",
              "    .dataframe tbody tr th:only-of-type {\n",
              "        vertical-align: middle;\n",
              "    }\n",
              "\n",
              "    .dataframe tbody tr th {\n",
              "        vertical-align: top;\n",
              "    }\n",
              "\n",
              "    .dataframe thead th {\n",
              "        text-align: right;\n",
              "    }\n",
              "</style>\n",
              "<table border=\"1\" class=\"dataframe\">\n",
              "  <thead>\n",
              "    <tr style=\"text-align: right;\">\n",
              "      <th></th>\n",
              "      <th>feature</th>\n",
              "      <th>weights</th>\n",
              "    </tr>\n",
              "  </thead>\n",
              "  <tbody>\n",
              "    <tr>\n",
              "      <th>0</th>\n",
              "      <td>status_Revised</td>\n",
              "      <td>882.599576</td>\n",
              "    </tr>\n",
              "    <tr>\n",
              "      <th>1</th>\n",
              "      <td>status_Not lost for AM</td>\n",
              "      <td>882.062112</td>\n",
              "    </tr>\n",
              "    <tr>\n",
              "      <th>2</th>\n",
              "      <td>status_Won</td>\n",
              "      <td>876.160532</td>\n",
              "    </tr>\n",
              "    <tr>\n",
              "      <th>3</th>\n",
              "      <td>status_Lost</td>\n",
              "      <td>873.645612</td>\n",
              "    </tr>\n",
              "    <tr>\n",
              "      <th>4</th>\n",
              "      <td>status_To be approved</td>\n",
              "      <td>828.870774</td>\n",
              "    </tr>\n",
              "    <tr>\n",
              "      <th>5</th>\n",
              "      <td>status_Offered</td>\n",
              "      <td>646.896186</td>\n",
              "    </tr>\n",
              "    <tr>\n",
              "      <th>6</th>\n",
              "      <td>delivery date_20211001.0</td>\n",
              "      <td>341.402807</td>\n",
              "    </tr>\n",
              "    <tr>\n",
              "      <th>7</th>\n",
              "      <td>delivery date_20210901.0</td>\n",
              "      <td>276.438763</td>\n",
              "    </tr>\n",
              "    <tr>\n",
              "      <th>8</th>\n",
              "      <td>product_ref_1721130331</td>\n",
              "      <td>228.630275</td>\n",
              "    </tr>\n",
              "    <tr>\n",
              "      <th>9</th>\n",
              "      <td>delivery date_20210801.0</td>\n",
              "      <td>220.896360</td>\n",
              "    </tr>\n",
              "  </tbody>\n",
              "</table>\n",
              "</div>\n",
              "      <button class=\"colab-df-convert\" onclick=\"convertToInteractive('df-a8749b03-f599-4eda-858b-4d87a5220544')\"\n",
              "              title=\"Convert this dataframe to an interactive table.\"\n",
              "              style=\"display:none;\">\n",
              "        \n",
              "  <svg xmlns=\"http://www.w3.org/2000/svg\" height=\"24px\"viewBox=\"0 0 24 24\"\n",
              "       width=\"24px\">\n",
              "    <path d=\"M0 0h24v24H0V0z\" fill=\"none\"/>\n",
              "    <path d=\"M18.56 5.44l.94 2.06.94-2.06 2.06-.94-2.06-.94-.94-2.06-.94 2.06-2.06.94zm-11 1L8.5 8.5l.94-2.06 2.06-.94-2.06-.94L8.5 2.5l-.94 2.06-2.06.94zm10 10l.94 2.06.94-2.06 2.06-.94-2.06-.94-.94-2.06-.94 2.06-2.06.94z\"/><path d=\"M17.41 7.96l-1.37-1.37c-.4-.4-.92-.59-1.43-.59-.52 0-1.04.2-1.43.59L10.3 9.45l-7.72 7.72c-.78.78-.78 2.05 0 2.83L4 21.41c.39.39.9.59 1.41.59.51 0 1.02-.2 1.41-.59l7.78-7.78 2.81-2.81c.8-.78.8-2.07 0-2.86zM5.41 20L4 18.59l7.72-7.72 1.47 1.35L5.41 20z\"/>\n",
              "  </svg>\n",
              "      </button>\n",
              "      \n",
              "  <style>\n",
              "    .colab-df-container {\n",
              "      display:flex;\n",
              "      flex-wrap:wrap;\n",
              "      gap: 12px;\n",
              "    }\n",
              "\n",
              "    .colab-df-convert {\n",
              "      background-color: #E8F0FE;\n",
              "      border: none;\n",
              "      border-radius: 50%;\n",
              "      cursor: pointer;\n",
              "      display: none;\n",
              "      fill: #1967D2;\n",
              "      height: 32px;\n",
              "      padding: 0 0 0 0;\n",
              "      width: 32px;\n",
              "    }\n",
              "\n",
              "    .colab-df-convert:hover {\n",
              "      background-color: #E2EBFA;\n",
              "      box-shadow: 0px 1px 2px rgba(60, 64, 67, 0.3), 0px 1px 3px 1px rgba(60, 64, 67, 0.15);\n",
              "      fill: #174EA6;\n",
              "    }\n",
              "\n",
              "    [theme=dark] .colab-df-convert {\n",
              "      background-color: #3B4455;\n",
              "      fill: #D2E3FC;\n",
              "    }\n",
              "\n",
              "    [theme=dark] .colab-df-convert:hover {\n",
              "      background-color: #434B5C;\n",
              "      box-shadow: 0px 1px 3px 1px rgba(0, 0, 0, 0.15);\n",
              "      filter: drop-shadow(0px 1px 2px rgba(0, 0, 0, 0.3));\n",
              "      fill: #FFFFFF;\n",
              "    }\n",
              "  </style>\n",
              "\n",
              "      <script>\n",
              "        const buttonEl =\n",
              "          document.querySelector('#df-a8749b03-f599-4eda-858b-4d87a5220544 button.colab-df-convert');\n",
              "        buttonEl.style.display =\n",
              "          google.colab.kernel.accessAllowed ? 'block' : 'none';\n",
              "\n",
              "        async function convertToInteractive(key) {\n",
              "          const element = document.querySelector('#df-a8749b03-f599-4eda-858b-4d87a5220544');\n",
              "          const dataTable =\n",
              "            await google.colab.kernel.invokeFunction('convertToInteractive',\n",
              "                                                     [key], {});\n",
              "          if (!dataTable) return;\n",
              "\n",
              "          const docLinkHtml = 'Like what you see? Visit the ' +\n",
              "            '<a target=\"_blank\" href=https://colab.research.google.com/notebooks/data_table.ipynb>data table notebook</a>'\n",
              "            + ' to learn more about interactive tables.';\n",
              "          element.innerHTML = '';\n",
              "          dataTable['output_type'] = 'display_data';\n",
              "          await google.colab.output.renderOutput(dataTable, element);\n",
              "          const docLink = document.createElement('div');\n",
              "          docLink.innerHTML = docLinkHtml;\n",
              "          element.appendChild(docLink);\n",
              "        }\n",
              "      </script>\n",
              "    </div>\n",
              "  </div>\n",
              "  "
            ]
          },
          "metadata": {},
          "execution_count": 130
        }
      ]
    },
    {
      "cell_type": "markdown",
      "source": [
        "We see that high anova f value features are more important as they are good in explaining variance in selling_price value."
      ],
      "metadata": {
        "id": "3dO5tuNyR59U"
      }
    },
    {
      "cell_type": "markdown",
      "source": [
        "**Decision Tree:**"
      ],
      "metadata": {
        "id": "Ggw-PY-iSIny"
      }
    },
    {
      "cell_type": "code",
      "source": [
        "from sklearn.tree import DecisionTreeRegressor"
      ],
      "metadata": {
        "id": "Ycz5kyzK8CpT"
      },
      "execution_count": null,
      "outputs": []
    },
    {
      "cell_type": "code",
      "source": [
        "pipe_dt = make_pipeline( transform , DecisionTreeRegressor())\n",
        "params_dt = {'decisiontreeregressor__max_depth':[3,5,7,9,11,13,15,17,19,21]}\n",
        "                      \n",
        "clf_dt = GridSearchCV( pipe_dt, params_dt, cv=3, return_train_score=True, refit=False,verbose=4,scoring='r2') \n",
        "clf_dt.fit(x,y)"
      ],
      "metadata": {
        "colab": {
          "base_uri": "https://localhost:8080/",
          "height": 756
        },
        "id": "wOB_EhtK7rYk",
        "outputId": "5dd18c34-1c14-491a-a0b7-1f72a27cba75"
      },
      "execution_count": null,
      "outputs": [
        {
          "output_type": "stream",
          "name": "stdout",
          "text": [
            "Fitting 3 folds for each of 10 candidates, totalling 30 fits\n",
            "[CV 1/3] END decisiontreeregressor__max_depth=3;, score=(train=0.368, test=0.368) total time=   0.8s\n",
            "[CV 2/3] END decisiontreeregressor__max_depth=3;, score=(train=0.370, test=0.365) total time=   0.8s\n",
            "[CV 3/3] END decisiontreeregressor__max_depth=3;, score=(train=0.368, test=0.370) total time=   0.8s\n",
            "[CV 1/3] END decisiontreeregressor__max_depth=5;, score=(train=0.498, test=0.502) total time=   1.4s\n",
            "[CV 2/3] END decisiontreeregressor__max_depth=5;, score=(train=0.502, test=0.495) total time=   1.4s\n",
            "[CV 3/3] END decisiontreeregressor__max_depth=5;, score=(train=0.501, test=0.499) total time=   1.6s\n",
            "[CV 1/3] END decisiontreeregressor__max_depth=7;, score=(train=0.618, test=0.617) total time=   1.6s\n",
            "[CV 2/3] END decisiontreeregressor__max_depth=7;, score=(train=0.615, test=0.604) total time=   1.1s\n",
            "[CV 3/3] END decisiontreeregressor__max_depth=7;, score=(train=0.617, test=0.612) total time=   1.1s\n",
            "[CV 1/3] END decisiontreeregressor__max_depth=9;, score=(train=0.694, test=0.686) total time=   1.4s\n",
            "[CV 2/3] END decisiontreeregressor__max_depth=9;, score=(train=0.688, test=0.668) total time=   1.4s\n",
            "[CV 3/3] END decisiontreeregressor__max_depth=9;, score=(train=0.696, test=0.678) total time=   1.4s\n",
            "[CV 1/3] END decisiontreeregressor__max_depth=11;, score=(train=0.762, test=0.738) total time=   2.1s\n",
            "[CV 2/3] END decisiontreeregressor__max_depth=11;, score=(train=0.763, test=0.730) total time=   2.4s\n",
            "[CV 3/3] END decisiontreeregressor__max_depth=11;, score=(train=0.763, test=0.727) total time=   1.8s\n",
            "[CV 1/3] END decisiontreeregressor__max_depth=13;, score=(train=0.821, test=0.781) total time=   2.3s\n",
            "[CV 2/3] END decisiontreeregressor__max_depth=13;, score=(train=0.832, test=0.787) total time=   2.4s\n",
            "[CV 3/3] END decisiontreeregressor__max_depth=13;, score=(train=0.821, test=0.766) total time=   2.3s\n",
            "[CV 1/3] END decisiontreeregressor__max_depth=15;, score=(train=0.868, test=0.809) total time=   4.1s\n",
            "[CV 2/3] END decisiontreeregressor__max_depth=15;, score=(train=0.868, test=0.809) total time=   3.1s\n",
            "[CV 3/3] END decisiontreeregressor__max_depth=15;, score=(train=0.870, test=0.794) total time=   3.0s\n",
            "[CV 1/3] END decisiontreeregressor__max_depth=17;, score=(train=0.893, test=0.817) total time=   4.6s\n",
            "[CV 2/3] END decisiontreeregressor__max_depth=17;, score=(train=0.898, test=0.820) total time=   4.6s\n",
            "[CV 3/3] END decisiontreeregressor__max_depth=17;, score=(train=0.899, test=0.804) total time=   5.1s\n",
            "[CV 1/3] END decisiontreeregressor__max_depth=19;, score=(train=0.918, test=0.818) total time=   6.6s\n",
            "[CV 2/3] END decisiontreeregressor__max_depth=19;, score=(train=0.923, test=0.820) total time=   6.2s\n",
            "[CV 3/3] END decisiontreeregressor__max_depth=19;, score=(train=0.923, test=0.806) total time=   6.3s\n",
            "[CV 1/3] END decisiontreeregressor__max_depth=21;, score=(train=0.940, test=0.819) total time=   6.3s\n",
            "[CV 2/3] END decisiontreeregressor__max_depth=21;, score=(train=0.944, test=0.823) total time=   7.8s\n",
            "[CV 3/3] END decisiontreeregressor__max_depth=21;, score=(train=0.942, test=0.805) total time=   6.4s\n"
          ]
        },
        {
          "output_type": "execute_result",
          "data": {
            "text/plain": [
              "GridSearchCV(cv=3,\n",
              "             estimator=Pipeline(steps=[('columntransformer',\n",
              "                                        ColumnTransformer(transformers=[('powertransformer',\n",
              "                                                                         PowerTransformer(),\n",
              "                                                                         (0, 3,\n",
              "                                                                          4)),\n",
              "                                                                        ('onehotencoder',\n",
              "                                                                         OneHotEncoder(drop='first',\n",
              "                                                                                       handle_unknown='ignore'),\n",
              "                                                                         (1, 2,\n",
              "                                                                          5,\n",
              "                                                                          6))])),\n",
              "                                       ('decisiontreeregressor',\n",
              "                                        DecisionTreeRegressor())]),\n",
              "             param_grid={'decisiontreeregressor__max_depth': [3, 5, 7, 9, 11,\n",
              "                                                              13, 15, 17, 19,\n",
              "                                                              21]},\n",
              "             refit=False, return_train_score=True, scoring='r2', verbose=4)"
            ],
            "text/html": [
              "<style>#sk-container-id-2 {color: black;background-color: white;}#sk-container-id-2 pre{padding: 0;}#sk-container-id-2 div.sk-toggleable {background-color: white;}#sk-container-id-2 label.sk-toggleable__label {cursor: pointer;display: block;width: 100%;margin-bottom: 0;padding: 0.3em;box-sizing: border-box;text-align: center;}#sk-container-id-2 label.sk-toggleable__label-arrow:before {content: \"▸\";float: left;margin-right: 0.25em;color: #696969;}#sk-container-id-2 label.sk-toggleable__label-arrow:hover:before {color: black;}#sk-container-id-2 div.sk-estimator:hover label.sk-toggleable__label-arrow:before {color: black;}#sk-container-id-2 div.sk-toggleable__content {max-height: 0;max-width: 0;overflow: hidden;text-align: left;background-color: #f0f8ff;}#sk-container-id-2 div.sk-toggleable__content pre {margin: 0.2em;color: black;border-radius: 0.25em;background-color: #f0f8ff;}#sk-container-id-2 input.sk-toggleable__control:checked~div.sk-toggleable__content {max-height: 200px;max-width: 100%;overflow: auto;}#sk-container-id-2 input.sk-toggleable__control:checked~label.sk-toggleable__label-arrow:before {content: \"▾\";}#sk-container-id-2 div.sk-estimator input.sk-toggleable__control:checked~label.sk-toggleable__label {background-color: #d4ebff;}#sk-container-id-2 div.sk-label input.sk-toggleable__control:checked~label.sk-toggleable__label {background-color: #d4ebff;}#sk-container-id-2 input.sk-hidden--visually {border: 0;clip: rect(1px 1px 1px 1px);clip: rect(1px, 1px, 1px, 1px);height: 1px;margin: -1px;overflow: hidden;padding: 0;position: absolute;width: 1px;}#sk-container-id-2 div.sk-estimator {font-family: monospace;background-color: #f0f8ff;border: 1px dotted black;border-radius: 0.25em;box-sizing: border-box;margin-bottom: 0.5em;}#sk-container-id-2 div.sk-estimator:hover {background-color: #d4ebff;}#sk-container-id-2 div.sk-parallel-item::after {content: \"\";width: 100%;border-bottom: 1px solid gray;flex-grow: 1;}#sk-container-id-2 div.sk-label:hover label.sk-toggleable__label {background-color: #d4ebff;}#sk-container-id-2 div.sk-serial::before {content: \"\";position: absolute;border-left: 1px solid gray;box-sizing: border-box;top: 0;bottom: 0;left: 50%;z-index: 0;}#sk-container-id-2 div.sk-serial {display: flex;flex-direction: column;align-items: center;background-color: white;padding-right: 0.2em;padding-left: 0.2em;position: relative;}#sk-container-id-2 div.sk-item {position: relative;z-index: 1;}#sk-container-id-2 div.sk-parallel {display: flex;align-items: stretch;justify-content: center;background-color: white;position: relative;}#sk-container-id-2 div.sk-item::before, #sk-container-id-2 div.sk-parallel-item::before {content: \"\";position: absolute;border-left: 1px solid gray;box-sizing: border-box;top: 0;bottom: 0;left: 50%;z-index: -1;}#sk-container-id-2 div.sk-parallel-item {display: flex;flex-direction: column;z-index: 1;position: relative;background-color: white;}#sk-container-id-2 div.sk-parallel-item:first-child::after {align-self: flex-end;width: 50%;}#sk-container-id-2 div.sk-parallel-item:last-child::after {align-self: flex-start;width: 50%;}#sk-container-id-2 div.sk-parallel-item:only-child::after {width: 0;}#sk-container-id-2 div.sk-dashed-wrapped {border: 1px dashed gray;margin: 0 0.4em 0.5em 0.4em;box-sizing: border-box;padding-bottom: 0.4em;background-color: white;}#sk-container-id-2 div.sk-label label {font-family: monospace;font-weight: bold;display: inline-block;line-height: 1.2em;}#sk-container-id-2 div.sk-label-container {text-align: center;}#sk-container-id-2 div.sk-container {/* jupyter's `normalize.less` sets `[hidden] { display: none; }` but bootstrap.min.css set `[hidden] { display: none !important; }` so we also need the `!important` here to be able to override the default hidden behavior on the sphinx rendered scikit-learn.org. See: https://github.com/scikit-learn/scikit-learn/issues/21755 */display: inline-block !important;position: relative;}#sk-container-id-2 div.sk-text-repr-fallback {display: none;}</style><div id=\"sk-container-id-2\" class=\"sk-top-container\"><div class=\"sk-text-repr-fallback\"><pre>GridSearchCV(cv=3,\n",
              "             estimator=Pipeline(steps=[(&#x27;columntransformer&#x27;,\n",
              "                                        ColumnTransformer(transformers=[(&#x27;powertransformer&#x27;,\n",
              "                                                                         PowerTransformer(),\n",
              "                                                                         (0, 3,\n",
              "                                                                          4)),\n",
              "                                                                        (&#x27;onehotencoder&#x27;,\n",
              "                                                                         OneHotEncoder(drop=&#x27;first&#x27;,\n",
              "                                                                                       handle_unknown=&#x27;ignore&#x27;),\n",
              "                                                                         (1, 2,\n",
              "                                                                          5,\n",
              "                                                                          6))])),\n",
              "                                       (&#x27;decisiontreeregressor&#x27;,\n",
              "                                        DecisionTreeRegressor())]),\n",
              "             param_grid={&#x27;decisiontreeregressor__max_depth&#x27;: [3, 5, 7, 9, 11,\n",
              "                                                              13, 15, 17, 19,\n",
              "                                                              21]},\n",
              "             refit=False, return_train_score=True, scoring=&#x27;r2&#x27;, verbose=4)</pre><b>In a Jupyter environment, please rerun this cell to show the HTML representation or trust the notebook. <br />On GitHub, the HTML representation is unable to render, please try loading this page with nbviewer.org.</b></div><div class=\"sk-container\" hidden><div class=\"sk-item sk-dashed-wrapped\"><div class=\"sk-label-container\"><div class=\"sk-label sk-toggleable\"><input class=\"sk-toggleable__control sk-hidden--visually\" id=\"sk-estimator-id-9\" type=\"checkbox\" ><label for=\"sk-estimator-id-9\" class=\"sk-toggleable__label sk-toggleable__label-arrow\">GridSearchCV</label><div class=\"sk-toggleable__content\"><pre>GridSearchCV(cv=3,\n",
              "             estimator=Pipeline(steps=[(&#x27;columntransformer&#x27;,\n",
              "                                        ColumnTransformer(transformers=[(&#x27;powertransformer&#x27;,\n",
              "                                                                         PowerTransformer(),\n",
              "                                                                         (0, 3,\n",
              "                                                                          4)),\n",
              "                                                                        (&#x27;onehotencoder&#x27;,\n",
              "                                                                         OneHotEncoder(drop=&#x27;first&#x27;,\n",
              "                                                                                       handle_unknown=&#x27;ignore&#x27;),\n",
              "                                                                         (1, 2,\n",
              "                                                                          5,\n",
              "                                                                          6))])),\n",
              "                                       (&#x27;decisiontreeregressor&#x27;,\n",
              "                                        DecisionTreeRegressor())]),\n",
              "             param_grid={&#x27;decisiontreeregressor__max_depth&#x27;: [3, 5, 7, 9, 11,\n",
              "                                                              13, 15, 17, 19,\n",
              "                                                              21]},\n",
              "             refit=False, return_train_score=True, scoring=&#x27;r2&#x27;, verbose=4)</pre></div></div></div><div class=\"sk-parallel\"><div class=\"sk-parallel-item\"><div class=\"sk-item\"><div class=\"sk-label-container\"><div class=\"sk-label sk-toggleable\"><input class=\"sk-toggleable__control sk-hidden--visually\" id=\"sk-estimator-id-10\" type=\"checkbox\" ><label for=\"sk-estimator-id-10\" class=\"sk-toggleable__label sk-toggleable__label-arrow\">estimator: Pipeline</label><div class=\"sk-toggleable__content\"><pre>Pipeline(steps=[(&#x27;columntransformer&#x27;,\n",
              "                 ColumnTransformer(transformers=[(&#x27;powertransformer&#x27;,\n",
              "                                                  PowerTransformer(),\n",
              "                                                  (0, 3, 4)),\n",
              "                                                 (&#x27;onehotencoder&#x27;,\n",
              "                                                  OneHotEncoder(drop=&#x27;first&#x27;,\n",
              "                                                                handle_unknown=&#x27;ignore&#x27;),\n",
              "                                                  (1, 2, 5, 6))])),\n",
              "                (&#x27;decisiontreeregressor&#x27;, DecisionTreeRegressor())])</pre></div></div></div><div class=\"sk-serial\"><div class=\"sk-item\"><div class=\"sk-serial\"><div class=\"sk-item sk-dashed-wrapped\"><div class=\"sk-label-container\"><div class=\"sk-label sk-toggleable\"><input class=\"sk-toggleable__control sk-hidden--visually\" id=\"sk-estimator-id-11\" type=\"checkbox\" ><label for=\"sk-estimator-id-11\" class=\"sk-toggleable__label sk-toggleable__label-arrow\">columntransformer: ColumnTransformer</label><div class=\"sk-toggleable__content\"><pre>ColumnTransformer(transformers=[(&#x27;powertransformer&#x27;, PowerTransformer(),\n",
              "                                 (0, 3, 4)),\n",
              "                                (&#x27;onehotencoder&#x27;,\n",
              "                                 OneHotEncoder(drop=&#x27;first&#x27;,\n",
              "                                               handle_unknown=&#x27;ignore&#x27;),\n",
              "                                 (1, 2, 5, 6))])</pre></div></div></div><div class=\"sk-parallel\"><div class=\"sk-parallel-item\"><div class=\"sk-item\"><div class=\"sk-label-container\"><div class=\"sk-label sk-toggleable\"><input class=\"sk-toggleable__control sk-hidden--visually\" id=\"sk-estimator-id-12\" type=\"checkbox\" ><label for=\"sk-estimator-id-12\" class=\"sk-toggleable__label sk-toggleable__label-arrow\">powertransformer</label><div class=\"sk-toggleable__content\"><pre>(0, 3, 4)</pre></div></div></div><div class=\"sk-serial\"><div class=\"sk-item\"><div class=\"sk-estimator sk-toggleable\"><input class=\"sk-toggleable__control sk-hidden--visually\" id=\"sk-estimator-id-13\" type=\"checkbox\" ><label for=\"sk-estimator-id-13\" class=\"sk-toggleable__label sk-toggleable__label-arrow\">PowerTransformer</label><div class=\"sk-toggleable__content\"><pre>PowerTransformer()</pre></div></div></div></div></div></div><div class=\"sk-parallel-item\"><div class=\"sk-item\"><div class=\"sk-label-container\"><div class=\"sk-label sk-toggleable\"><input class=\"sk-toggleable__control sk-hidden--visually\" id=\"sk-estimator-id-14\" type=\"checkbox\" ><label for=\"sk-estimator-id-14\" class=\"sk-toggleable__label sk-toggleable__label-arrow\">onehotencoder</label><div class=\"sk-toggleable__content\"><pre>(1, 2, 5, 6)</pre></div></div></div><div class=\"sk-serial\"><div class=\"sk-item\"><div class=\"sk-estimator sk-toggleable\"><input class=\"sk-toggleable__control sk-hidden--visually\" id=\"sk-estimator-id-15\" type=\"checkbox\" ><label for=\"sk-estimator-id-15\" class=\"sk-toggleable__label sk-toggleable__label-arrow\">OneHotEncoder</label><div class=\"sk-toggleable__content\"><pre>OneHotEncoder(drop=&#x27;first&#x27;, handle_unknown=&#x27;ignore&#x27;)</pre></div></div></div></div></div></div></div></div><div class=\"sk-item\"><div class=\"sk-estimator sk-toggleable\"><input class=\"sk-toggleable__control sk-hidden--visually\" id=\"sk-estimator-id-16\" type=\"checkbox\" ><label for=\"sk-estimator-id-16\" class=\"sk-toggleable__label sk-toggleable__label-arrow\">DecisionTreeRegressor</label><div class=\"sk-toggleable__content\"><pre>DecisionTreeRegressor()</pre></div></div></div></div></div></div></div></div></div></div></div></div>"
            ]
          },
          "metadata": {},
          "execution_count": 133
        }
      ]
    },
    {
      "cell_type": "code",
      "source": [
        "sns.set_style(\"whitegrid\")\n",
        "plt.figure(figsize=(12,7))\n",
        "sns.lineplot(x=np.arange(len(params_dt['decisiontreeregressor__max_depth'])), y=clf_dt.cv_results_['mean_train_score'], label='mean train r2 score')\n",
        "sns.lineplot(x=np.arange(len(params_dt['decisiontreeregressor__max_depth'])), y=clf_dt.cv_results_['mean_test_score'], label='mean cv r2 score')\n",
        "plt.xticks(np.arange(len(params_dt['decisiontreeregressor__max_depth'])), labels=params_dt['decisiontreeregressor__max_depth'])\n",
        "plt.tick_params(labelright=True)\n",
        "plt.xlabel('decisiontreeclassifier__max_depth')\n",
        "plt.ylabel('mean train and cv r2 score')\n",
        "plt.title('Train & CV curve for hyperparameter selection')\n",
        "plt.legend()\n",
        "plt.show()"
      ],
      "metadata": {
        "colab": {
          "base_uri": "https://localhost:8080/",
          "height": 459
        },
        "id": "avOWuDaA8a2Y",
        "outputId": "725763f8-e157-4f94-b0f0-61b726dcda94"
      },
      "execution_count": null,
      "outputs": [
        {
          "output_type": "display_data",
          "data": {
            "text/plain": [
              "<Figure size 864x504 with 1 Axes>"
            ],
            "image/png": "[encoded data removed]"
          },
          "metadata": {}
        }
      ]
    },
    {
      "cell_type": "code",
      "source": [
        "clf_dt.cv_results_['mean_train_score'][6] , clf_dt.cv_results_['mean_test_score'][6]"
      ],
      "metadata": {
        "colab": {
          "base_uri": "https://localhost:8080/"
        },
        "id": "8q2kQyM4imWn",
        "outputId": "ce2a3d69-1323-49d3-cbc9-897d102e10dd"
      },
      "execution_count": null,
      "outputs": [
        {
          "output_type": "execute_result",
          "data": {
            "text/plain": [
              "(0.8686520659486394, 0.8042083695740239)"
            ]
          },
          "metadata": {},
          "execution_count": 168
        }
      ]
    },
    {
      "cell_type": "markdown",
      "source": [
        "We will not do any further analysis for decision tree"
      ],
      "metadata": {
        "id": "aKVGRll6Syvn"
      }
    },
    {
      "cell_type": "markdown",
      "source": [
        "**Random Forest:**"
      ],
      "metadata": {
        "id": "gdH2ZIADS5oV"
      }
    },
    {
      "cell_type": "code",
      "source": [
        "!pip install scikit-optimize"
      ],
      "metadata": {
        "id": "c9lbuDcO9PjA"
      },
      "execution_count": null,
      "outputs": []
    },
    {
      "cell_type": "code",
      "source": [
        "from skopt import BayesSearchCV"
      ],
      "metadata": {
        "id": "_Y69j8tM9SQV"
      },
      "execution_count": null,
      "outputs": []
    },
    {
      "cell_type": "code",
      "source": [
        "from sklearn.ensemble import RandomForestRegressor"
      ],
      "metadata": {
        "id": "4JXHDg3m83UT"
      },
      "execution_count": null,
      "outputs": []
    },
    {
      "cell_type": "code",
      "source": [
        "pipe_rf = make_pipeline( transform , RandomForestRegressor(random_state=50) )\n",
        "\n",
        "search_space_rf = {\n",
        "         'randomforestregressor__max_depth':(1,10),\n",
        "         'randomforestregressor__n_estimators':(3,50),\n",
        "         }\n",
        "\n",
        "opt_rf = BayesSearchCV(pipe_rf, search_space_rf , n_iter=10, cv=3, verbose=4,return_train_score=True,refit=False,random_state=55,scoring='r2')\n",
        "\n",
        "opt_rf.fit(x,y)"
      ],
      "metadata": {
        "colab": {
          "base_uri": "https://localhost:8080/",
          "height": 913
        },
        "id": "SPzeDXBe87YX",
        "outputId": "2c020984-0c27-414e-8e1b-57dbc535bbd0"
      },
      "execution_count": null,
      "outputs": [
        {
          "output_type": "stream",
          "name": "stdout",
          "text": [
            "Fitting 3 folds for each of 1 candidates, totalling 3 fits\n",
            "[CV 1/3] END randomforestregressor__max_depth=8, randomforestregressor__n_estimators=39;, score=(train=0.665, test=0.660) total time=  26.3s\n",
            "[CV 2/3] END randomforestregressor__max_depth=8, randomforestregressor__n_estimators=39;, score=(train=0.668, test=0.653) total time=  30.8s\n",
            "[CV 3/3] END randomforestregressor__max_depth=8, randomforestregressor__n_estimators=39;, score=(train=0.667, test=0.658) total time=  19.6s\n",
            "Fitting 3 folds for each of 1 candidates, totalling 3 fits\n",
            "[CV 1/3] END randomforestregressor__max_depth=5, randomforestregressor__n_estimators=7;, score=(train=0.504, test=0.507) total time=   2.0s\n",
            "[CV 2/3] END randomforestregressor__max_depth=5, randomforestregressor__n_estimators=7;, score=(train=0.506, test=0.499) total time=   1.9s\n",
            "[CV 3/3] END randomforestregressor__max_depth=5, randomforestregressor__n_estimators=7;, score=(train=0.504, test=0.502) total time=   2.0s\n",
            "Fitting 3 folds for each of 1 candidates, totalling 3 fits\n",
            "[CV 1/3] END randomforestregressor__max_depth=5, randomforestregressor__n_estimators=39;, score=(train=0.505, test=0.508) total time=   8.8s\n",
            "[CV 2/3] END randomforestregressor__max_depth=5, randomforestregressor__n_estimators=39;, score=(train=0.507, test=0.500) total time=   8.7s\n",
            "[CV 3/3] END randomforestregressor__max_depth=5, randomforestregressor__n_estimators=39;, score=(train=0.507, test=0.505) total time=  12.3s\n",
            "Fitting 3 folds for each of 1 candidates, totalling 3 fits\n",
            "[CV 1/3] END randomforestregressor__max_depth=2, randomforestregressor__n_estimators=44;, score=(train=0.298, test=0.301) total time=   3.5s\n",
            "[CV 2/3] END randomforestregressor__max_depth=2, randomforestregressor__n_estimators=44;, score=(train=0.299, test=0.297) total time=   3.4s\n",
            "[CV 3/3] END randomforestregressor__max_depth=2, randomforestregressor__n_estimators=44;, score=(train=0.299, test=0.297) total time=   3.9s\n",
            "Fitting 3 folds for each of 1 candidates, totalling 3 fits\n",
            "[CV 1/3] END randomforestregressor__max_depth=1, randomforestregressor__n_estimators=15;, score=(train=0.209, test=0.209) total time=   2.0s\n",
            "[CV 2/3] END randomforestregressor__max_depth=1, randomforestregressor__n_estimators=15;, score=(train=0.209, test=0.209) total time=   1.8s\n",
            "[CV 3/3] END randomforestregressor__max_depth=1, randomforestregressor__n_estimators=15;, score=(train=0.209, test=0.209) total time=   1.2s\n",
            "Fitting 3 folds for each of 1 candidates, totalling 3 fits\n",
            "[CV 1/3] END randomforestregressor__max_depth=1, randomforestregressor__n_estimators=17;, score=(train=0.209, test=0.209) total time=   1.5s\n",
            "[CV 2/3] END randomforestregressor__max_depth=1, randomforestregressor__n_estimators=17;, score=(train=0.209, test=0.209) total time=   1.8s\n",
            "[CV 3/3] END randomforestregressor__max_depth=1, randomforestregressor__n_estimators=17;, score=(train=0.209, test=0.209) total time=   1.7s\n",
            "Fitting 3 folds for each of 1 candidates, totalling 3 fits\n",
            "[CV 1/3] END randomforestregressor__max_depth=3, randomforestregressor__n_estimators=7;, score=(train=0.369, test=0.370) total time=   1.3s\n",
            "[CV 2/3] END randomforestregressor__max_depth=3, randomforestregressor__n_estimators=7;, score=(train=0.371, test=0.366) total time=   3.7s\n",
            "[CV 3/3] END randomforestregressor__max_depth=3, randomforestregressor__n_estimators=7;, score=(train=0.369, test=0.370) total time=   2.3s\n",
            "Fitting 3 folds for each of 1 candidates, totalling 3 fits\n",
            "[CV 1/3] END randomforestregressor__max_depth=9, randomforestregressor__n_estimators=25;, score=(train=0.705, test=0.696) total time=  18.0s\n",
            "[CV 2/3] END randomforestregressor__max_depth=9, randomforestregressor__n_estimators=25;, score=(train=0.712, test=0.694) total time=  15.0s\n",
            "[CV 3/3] END randomforestregressor__max_depth=9, randomforestregressor__n_estimators=25;, score=(train=0.710, test=0.693) total time=  16.0s\n",
            "Fitting 3 folds for each of 1 candidates, totalling 3 fits\n",
            "[CV 1/3] END randomforestregressor__max_depth=2, randomforestregressor__n_estimators=13;, score=(train=0.297, test=0.301) total time=   2.1s\n",
            "[CV 2/3] END randomforestregressor__max_depth=2, randomforestregressor__n_estimators=13;, score=(train=0.299, test=0.297) total time=   1.8s\n",
            "[CV 3/3] END randomforestregressor__max_depth=2, randomforestregressor__n_estimators=13;, score=(train=0.299, test=0.297) total time=   1.5s\n",
            "Fitting 3 folds for each of 1 candidates, totalling 3 fits\n",
            "[CV 1/3] END randomforestregressor__max_depth=2, randomforestregressor__n_estimators=36;, score=(train=0.298, test=0.301) total time=   2.9s\n",
            "[CV 2/3] END randomforestregressor__max_depth=2, randomforestregressor__n_estimators=36;, score=(train=0.299, test=0.297) total time=   2.9s\n",
            "[CV 3/3] END randomforestregressor__max_depth=2, randomforestregressor__n_estimators=36;, score=(train=0.299, test=0.297) total time=   3.8s\n"
          ]
        },
        {
          "output_type": "execute_result",
          "data": {
            "text/plain": [
              "BayesSearchCV(cv=3,\n",
              "              estimator=Pipeline(steps=[('columntransformer',\n",
              "                                         ColumnTransformer(transformers=[('powertransformer',\n",
              "                                                                          PowerTransformer(),\n",
              "                                                                          (0, 3,\n",
              "                                                                           4)),\n",
              "                                                                         ('onehotencoder',\n",
              "                                                                          OneHotEncoder(drop='first',\n",
              "                                                                                        handle_unknown='ignore'),\n",
              "                                                                          (1, 2,\n",
              "                                                                           5,\n",
              "                                                                           6))])),\n",
              "                                        ('randomforestregressor',\n",
              "                                         RandomForestRegressor(random_state=50))]),\n",
              "              n_iter=10, random_state=55, refit=False, return_train_score=True,\n",
              "              scoring='r2',\n",
              "              search_spaces={'randomforestregressor__max_depth': (1, 10),\n",
              "                             'randomforestregressor__n_estimators': (3, 50)},\n",
              "              verbose=4)"
            ],
            "text/html": [
              "<style>#sk-container-id-3 {color: black;background-color: white;}#sk-container-id-3 pre{padding: 0;}#sk-container-id-3 div.sk-toggleable {background-color: white;}#sk-container-id-3 label.sk-toggleable__label {cursor: pointer;display: block;width: 100%;margin-bottom: 0;padding: 0.3em;box-sizing: border-box;text-align: center;}#sk-container-id-3 label.sk-toggleable__label-arrow:before {content: \"▸\";float: left;margin-right: 0.25em;color: #696969;}#sk-container-id-3 label.sk-toggleable__label-arrow:hover:before {color: black;}#sk-container-id-3 div.sk-estimator:hover label.sk-toggleable__label-arrow:before {color: black;}#sk-container-id-3 div.sk-toggleable__content {max-height: 0;max-width: 0;overflow: hidden;text-align: left;background-color: #f0f8ff;}#sk-container-id-3 div.sk-toggleable__content pre {margin: 0.2em;color: black;border-radius: 0.25em;background-color: #f0f8ff;}#sk-container-id-3 input.sk-toggleable__control:checked~div.sk-toggleable__content {max-height: 200px;max-width: 100%;overflow: auto;}#sk-container-id-3 input.sk-toggleable__control:checked~label.sk-toggleable__label-arrow:before {content: \"▾\";}#sk-container-id-3 div.sk-estimator input.sk-toggleable__control:checked~label.sk-toggleable__label {background-color: #d4ebff;}#sk-container-id-3 div.sk-label input.sk-toggleable__control:checked~label.sk-toggleable__label {background-color: #d4ebff;}#sk-container-id-3 input.sk-hidden--visually {border: 0;clip: rect(1px 1px 1px 1px);clip: rect(1px, 1px, 1px, 1px);height: 1px;margin: -1px;overflow: hidden;padding: 0;position: absolute;width: 1px;}#sk-container-id-3 div.sk-estimator {font-family: monospace;background-color: #f0f8ff;border: 1px dotted black;border-radius: 0.25em;box-sizing: border-box;margin-bottom: 0.5em;}#sk-container-id-3 div.sk-estimator:hover {background-color: #d4ebff;}#sk-container-id-3 div.sk-parallel-item::after {content: \"\";width: 100%;border-bottom: 1px solid gray;flex-grow: 1;}#sk-container-id-3 div.sk-label:hover label.sk-toggleable__label {background-color: #d4ebff;}#sk-container-id-3 div.sk-serial::before {content: \"\";position: absolute;border-left: 1px solid gray;box-sizing: border-box;top: 0;bottom: 0;left: 50%;z-index: 0;}#sk-container-id-3 div.sk-serial {display: flex;flex-direction: column;align-items: center;background-color: white;padding-right: 0.2em;padding-left: 0.2em;position: relative;}#sk-container-id-3 div.sk-item {position: relative;z-index: 1;}#sk-container-id-3 div.sk-parallel {display: flex;align-items: stretch;justify-content: center;background-color: white;position: relative;}#sk-container-id-3 div.sk-item::before, #sk-container-id-3 div.sk-parallel-item::before {content: \"\";position: absolute;border-left: 1px solid gray;box-sizing: border-box;top: 0;bottom: 0;left: 50%;z-index: -1;}#sk-container-id-3 div.sk-parallel-item {display: flex;flex-direction: column;z-index: 1;position: relative;background-color: white;}#sk-container-id-3 div.sk-parallel-item:first-child::after {align-self: flex-end;width: 50%;}#sk-container-id-3 div.sk-parallel-item:last-child::after {align-self: flex-start;width: 50%;}#sk-container-id-3 div.sk-parallel-item:only-child::after {width: 0;}#sk-container-id-3 div.sk-dashed-wrapped {border: 1px dashed gray;margin: 0 0.4em 0.5em 0.4em;box-sizing: border-box;padding-bottom: 0.4em;background-color: white;}#sk-container-id-3 div.sk-label label {font-family: monospace;font-weight: bold;display: inline-block;line-height: 1.2em;}#sk-container-id-3 div.sk-label-container {text-align: center;}#sk-container-id-3 div.sk-container {/* jupyter's `normalize.less` sets `[hidden] { display: none; }` but bootstrap.min.css set `[hidden] { display: none !important; }` so we also need the `!important` here to be able to override the default hidden behavior on the sphinx rendered scikit-learn.org. See: https://github.com/scikit-learn/scikit-learn/issues/21755 */display: inline-block !important;position: relative;}#sk-container-id-3 div.sk-text-repr-fallback {display: none;}</style><div id=\"sk-container-id-3\" class=\"sk-top-container\"><div class=\"sk-text-repr-fallback\"><pre>BayesSearchCV(cv=3,\n",
              "              estimator=Pipeline(steps=[(&#x27;columntransformer&#x27;,\n",
              "                                         ColumnTransformer(transformers=[(&#x27;powertransformer&#x27;,\n",
              "                                                                          PowerTransformer(),\n",
              "                                                                          (0, 3,\n",
              "                                                                           4)),\n",
              "                                                                         (&#x27;onehotencoder&#x27;,\n",
              "                                                                          OneHotEncoder(drop=&#x27;first&#x27;,\n",
              "                                                                                        handle_unknown=&#x27;ignore&#x27;),\n",
              "                                                                          (1, 2,\n",
              "                                                                           5,\n",
              "                                                                           6))])),\n",
              "                                        (&#x27;randomforestregressor&#x27;,\n",
              "                                         RandomForestRegressor(random_state=50))]),\n",
              "              n_iter=10, random_state=55, refit=False, return_train_score=True,\n",
              "              scoring=&#x27;r2&#x27;,\n",
              "              search_spaces={&#x27;randomforestregressor__max_depth&#x27;: (1, 10),\n",
              "                             &#x27;randomforestregressor__n_estimators&#x27;: (3, 50)},\n",
              "              verbose=4)</pre><b>In a Jupyter environment, please rerun this cell to show the HTML representation or trust the notebook. <br />On GitHub, the HTML representation is unable to render, please try loading this page with nbviewer.org.</b></div><div class=\"sk-container\" hidden><div class=\"sk-item sk-dashed-wrapped\"><div class=\"sk-label-container\"><div class=\"sk-label sk-toggleable\"><input class=\"sk-toggleable__control sk-hidden--visually\" id=\"sk-estimator-id-17\" type=\"checkbox\" ><label for=\"sk-estimator-id-17\" class=\"sk-toggleable__label sk-toggleable__label-arrow\">BayesSearchCV</label><div class=\"sk-toggleable__content\"><pre>BayesSearchCV(cv=3,\n",
              "              estimator=Pipeline(steps=[(&#x27;columntransformer&#x27;,\n",
              "                                         ColumnTransformer(transformers=[(&#x27;powertransformer&#x27;,\n",
              "                                                                          PowerTransformer(),\n",
              "                                                                          (0, 3,\n",
              "                                                                           4)),\n",
              "                                                                         (&#x27;onehotencoder&#x27;,\n",
              "                                                                          OneHotEncoder(drop=&#x27;first&#x27;,\n",
              "                                                                                        handle_unknown=&#x27;ignore&#x27;),\n",
              "                                                                          (1, 2,\n",
              "                                                                           5,\n",
              "                                                                           6))])),\n",
              "                                        (&#x27;randomforestregressor&#x27;,\n",
              "                                         RandomForestRegressor(random_state=50))]),\n",
              "              n_iter=10, random_state=55, refit=False, return_train_score=True,\n",
              "              scoring=&#x27;r2&#x27;,\n",
              "              search_spaces={&#x27;randomforestregressor__max_depth&#x27;: (1, 10),\n",
              "                             &#x27;randomforestregressor__n_estimators&#x27;: (3, 50)},\n",
              "              verbose=4)</pre></div></div></div><div class=\"sk-parallel\"><div class=\"sk-parallel-item\"><div class=\"sk-item\"><div class=\"sk-label-container\"><div class=\"sk-label sk-toggleable\"><input class=\"sk-toggleable__control sk-hidden--visually\" id=\"sk-estimator-id-18\" type=\"checkbox\" ><label for=\"sk-estimator-id-18\" class=\"sk-toggleable__label sk-toggleable__label-arrow\">estimator: Pipeline</label><div class=\"sk-toggleable__content\"><pre>Pipeline(steps=[(&#x27;columntransformer&#x27;,\n",
              "                 ColumnTransformer(transformers=[(&#x27;powertransformer&#x27;,\n",
              "                                                  PowerTransformer(),\n",
              "                                                  (0, 3, 4)),\n",
              "                                                 (&#x27;onehotencoder&#x27;,\n",
              "                                                  OneHotEncoder(drop=&#x27;first&#x27;,\n",
              "                                                                handle_unknown=&#x27;ignore&#x27;),\n",
              "                                                  (1, 2, 5, 6))])),\n",
              "                (&#x27;randomforestregressor&#x27;,\n",
              "                 RandomForestRegressor(random_state=50))])</pre></div></div></div><div class=\"sk-serial\"><div class=\"sk-item\"><div class=\"sk-serial\"><div class=\"sk-item sk-dashed-wrapped\"><div class=\"sk-label-container\"><div class=\"sk-label sk-toggleable\"><input class=\"sk-toggleable__control sk-hidden--visually\" id=\"sk-estimator-id-19\" type=\"checkbox\" ><label for=\"sk-estimator-id-19\" class=\"sk-toggleable__label sk-toggleable__label-arrow\">columntransformer: ColumnTransformer</label><div class=\"sk-toggleable__content\"><pre>ColumnTransformer(transformers=[(&#x27;powertransformer&#x27;, PowerTransformer(),\n",
              "                                 (0, 3, 4)),\n",
              "                                (&#x27;onehotencoder&#x27;,\n",
              "                                 OneHotEncoder(drop=&#x27;first&#x27;,\n",
              "                                               handle_unknown=&#x27;ignore&#x27;),\n",
              "                                 (1, 2, 5, 6))])</pre></div></div></div><div class=\"sk-parallel\"><div class=\"sk-parallel-item\"><div class=\"sk-item\"><div class=\"sk-label-container\"><div class=\"sk-label sk-toggleable\"><input class=\"sk-toggleable__control sk-hidden--visually\" id=\"sk-estimator-id-20\" type=\"checkbox\" ><label for=\"sk-estimator-id-20\" class=\"sk-toggleable__label sk-toggleable__label-arrow\">powertransformer</label><div class=\"sk-toggleable__content\"><pre>(0, 3, 4)</pre></div></div></div><div class=\"sk-serial\"><div class=\"sk-item\"><div class=\"sk-estimator sk-toggleable\"><input class=\"sk-toggleable__control sk-hidden--visually\" id=\"sk-estimator-id-21\" type=\"checkbox\" ><label for=\"sk-estimator-id-21\" class=\"sk-toggleable__label sk-toggleable__label-arrow\">PowerTransformer</label><div class=\"sk-toggleable__content\"><pre>PowerTransformer()</pre></div></div></div></div></div></div><div class=\"sk-parallel-item\"><div class=\"sk-item\"><div class=\"sk-label-container\"><div class=\"sk-label sk-toggleable\"><input class=\"sk-toggleable__control sk-hidden--visually\" id=\"sk-estimator-id-22\" type=\"checkbox\" ><label for=\"sk-estimator-id-22\" class=\"sk-toggleable__label sk-toggleable__label-arrow\">onehotencoder</label><div class=\"sk-toggleable__content\"><pre>(1, 2, 5, 6)</pre></div></div></div><div class=\"sk-serial\"><div class=\"sk-item\"><div class=\"sk-estimator sk-toggleable\"><input class=\"sk-toggleable__control sk-hidden--visually\" id=\"sk-estimator-id-23\" type=\"checkbox\" ><label for=\"sk-estimator-id-23\" class=\"sk-toggleable__label sk-toggleable__label-arrow\">OneHotEncoder</label><div class=\"sk-toggleable__content\"><pre>OneHotEncoder(drop=&#x27;first&#x27;, handle_unknown=&#x27;ignore&#x27;)</pre></div></div></div></div></div></div></div></div><div class=\"sk-item\"><div class=\"sk-estimator sk-toggleable\"><input class=\"sk-toggleable__control sk-hidden--visually\" id=\"sk-estimator-id-24\" type=\"checkbox\" ><label for=\"sk-estimator-id-24\" class=\"sk-toggleable__label sk-toggleable__label-arrow\">RandomForestRegressor</label><div class=\"sk-toggleable__content\"><pre>RandomForestRegressor(random_state=50)</pre></div></div></div></div></div></div></div></div></div></div></div></div>"
            ]
          },
          "metadata": {},
          "execution_count": 138
        }
      ]
    },
    {
      "cell_type": "code",
      "source": [
        "n_iter=10\n",
        "sns.set_style(\"whitegrid\")\n",
        "plt.figure(figsize=(12,7))\n",
        "sns.lineplot(x=np.arange(n_iter), y=opt_rf.cv_results_['mean_train_score'], label='mean train r2 score')\n",
        "sns.lineplot(x=np.arange(n_iter), y=opt_rf.cv_results_['mean_test_score'], label='mean cv r2 score')\n",
        "plt.xticks(np.arange(n_iter))\n",
        "plt.tick_params(labelright=True)\n",
        "plt.xlabel('index no. of search result')\n",
        "plt.ylabel('mean train and cv r2 score')\n",
        "plt.title('Train & CV curve for hyperparameter selection')\n",
        "plt.legend()\n",
        "plt.show()"
      ],
      "metadata": {
        "colab": {
          "base_uri": "https://localhost:8080/",
          "height": 458
        },
        "id": "9ZCYTqEp9k0t",
        "outputId": "0ea0a6a4-fc26-4c7b-9ddd-69ce9801cd70"
      },
      "execution_count": null,
      "outputs": [
        {
          "output_type": "display_data",
          "data": {
            "text/plain": [
              "<Figure size 864x504 with 1 Axes>"
            ],
            "image/png": "[encoded data removed]"
          },
          "metadata": {}
        }
      ]
    },
    {
      "cell_type": "code",
      "source": [
        "opt_rf.cv_results_['params'][7] #getting values for index 7"
      ],
      "metadata": {
        "colab": {
          "base_uri": "https://localhost:8080/"
        },
        "id": "0IY_gmvShWGj",
        "outputId": "8243949b-4aa5-4957-d2a8-0864da31a00c"
      },
      "execution_count": null,
      "outputs": [
        {
          "output_type": "execute_result",
          "data": {
            "text/plain": [
              "OrderedDict([('randomforestregressor__max_depth', 9),\n",
              "             ('randomforestregressor__n_estimators', 25)])"
            ]
          },
          "metadata": {},
          "execution_count": 162
        }
      ]
    },
    {
      "cell_type": "code",
      "source": [
        "opt_rf.cv_results_['mean_train_score'][7] , opt_rf.cv_results_['mean_test_score'][7]"
      ],
      "metadata": {
        "colab": {
          "base_uri": "https://localhost:8080/"
        },
        "id": "AGelOCgghxdq",
        "outputId": "ff14aa03-01ee-4f59-a325-d15da9f2479e"
      },
      "execution_count": null,
      "outputs": [
        {
          "output_type": "execute_result",
          "data": {
            "text/plain": [
              "(0.7088381053917453, 0.6939147685110779)"
            ]
          },
          "metadata": {},
          "execution_count": 163
        }
      ]
    },
    {
      "cell_type": "markdown",
      "source": [
        "we will not do any further analysis"
      ],
      "metadata": {
        "id": "lS2RgnCgXEfv"
      }
    },
    {
      "cell_type": "markdown",
      "source": [
        "**XGBoost:**"
      ],
      "metadata": {
        "id": "SWE_LfWCXI6z"
      }
    },
    {
      "cell_type": "code",
      "source": [
        "pipe_xgb = make_pipeline( transform , XGBRegressor( random_state=15, objective='reg:squarederror') )\n",
        "\n",
        "search_space_xgb = {\n",
        "         'xgbregressor__max_depth':(1,10),\n",
        "         'xgbregressor__n_estimators':(3,50),\n",
        "         'xgbregressor__learning_rate':(0.1, .99, 'uniform'),\n",
        "         'xgbregressor__subsample':(0.7, 1, 'uniform'),\n",
        "         'xgbregressor__colsample_bytree':(0.7, 1, 'uniform'),\n",
        "         'xgbregressor__lambda':(1e-4, 1e+3,'log-uniform'),\n",
        "         'xgbregressor__scale_pos_weight':(0.15,.99,'uniform')\n",
        "         }\n",
        "\n",
        "opt_xgb = BayesSearchCV(pipe_xgb, search_space_xgb , n_iter=10, cv=3, verbose=4,return_train_score=True,refit=False,random_state=55,scoring='r2')\n",
        "\n",
        "opt_xgb.fit(x,y)"
      ],
      "metadata": {
        "colab": {
          "base_uri": "https://localhost:8080/",
          "height": 933
        },
        "id": "tiYWXkYGiGBM",
        "outputId": "c6b6b99f-11f1-460f-b77c-334990f9713f"
      },
      "execution_count": null,
      "outputs": [
        {
          "output_type": "stream",
          "name": "stdout",
          "text": [
            "Fitting 3 folds for each of 1 candidates, totalling 3 fits\n",
            "[CV 1/3] END xgbregressor__colsample_bytree=1, xgbregressor__lambda=20.936646688240696, xgbregressor__learning_rate=0.9012993298149262, xgbregressor__max_depth=2, xgbregressor__n_estimators=16, xgbregressor__scale_pos_weight=0.34972928137407544, xgbregressor__subsample=1;, score=(train=0.649, test=0.652) total time=   1.3s\n",
            "[CV 2/3] END xgbregressor__colsample_bytree=1, xgbregressor__lambda=20.936646688240696, xgbregressor__learning_rate=0.9012993298149262, xgbregressor__max_depth=2, xgbregressor__n_estimators=16, xgbregressor__scale_pos_weight=0.34972928137407544, xgbregressor__subsample=1;, score=(train=0.650, test=0.648) total time=   1.1s\n",
            "[CV 3/3] END xgbregressor__colsample_bytree=1, xgbregressor__lambda=20.936646688240696, xgbregressor__learning_rate=0.9012993298149262, xgbregressor__max_depth=2, xgbregressor__n_estimators=16, xgbregressor__scale_pos_weight=0.34972928137407544, xgbregressor__subsample=1;, score=(train=0.655, test=0.650) total time=   1.1s\n",
            "Fitting 3 folds for each of 1 candidates, totalling 3 fits\n",
            "[CV 1/3] END xgbregressor__colsample_bytree=1, xgbregressor__lambda=0.0004234600710412399, xgbregressor__learning_rate=0.7513514929359945, xgbregressor__max_depth=5, xgbregressor__n_estimators=41, xgbregressor__scale_pos_weight=0.5059043436656652, xgbregressor__subsample=1;, score=(train=0.884, test=0.879) total time=   3.3s\n",
            "[CV 2/3] END xgbregressor__colsample_bytree=1, xgbregressor__lambda=0.0004234600710412399, xgbregressor__learning_rate=0.7513514929359945, xgbregressor__max_depth=5, xgbregressor__n_estimators=41, xgbregressor__scale_pos_weight=0.5059043436656652, xgbregressor__subsample=1;, score=(train=0.883, test=0.877) total time=   5.6s\n",
            "[CV 3/3] END xgbregressor__colsample_bytree=1, xgbregressor__lambda=0.0004234600710412399, xgbregressor__learning_rate=0.7513514929359945, xgbregressor__max_depth=5, xgbregressor__n_estimators=41, xgbregressor__scale_pos_weight=0.5059043436656652, xgbregressor__subsample=1;, score=(train=0.882, test=0.870) total time=   7.9s\n",
            "Fitting 3 folds for each of 1 candidates, totalling 3 fits\n",
            "[CV 1/3] END xgbregressor__colsample_bytree=1, xgbregressor__lambda=23.94043751560064, xgbregressor__learning_rate=0.3942514761419943, xgbregressor__max_depth=10, xgbregressor__n_estimators=14, xgbregressor__scale_pos_weight=0.2072904620107575, xgbregressor__subsample=1;, score=(train=0.874, test=0.867) total time=   5.3s\n",
            "[CV 2/3] END xgbregressor__colsample_bytree=1, xgbregressor__lambda=23.94043751560064, xgbregressor__learning_rate=0.3942514761419943, xgbregressor__max_depth=10, xgbregressor__n_estimators=14, xgbregressor__scale_pos_weight=0.2072904620107575, xgbregressor__subsample=1;, score=(train=0.875, test=0.869) total time=   2.6s\n",
            "[CV 3/3] END xgbregressor__colsample_bytree=1, xgbregressor__lambda=23.94043751560064, xgbregressor__learning_rate=0.3942514761419943, xgbregressor__max_depth=10, xgbregressor__n_estimators=14, xgbregressor__scale_pos_weight=0.2072904620107575, xgbregressor__subsample=1;, score=(train=0.876, test=0.864) total time=   2.5s\n",
            "Fitting 3 folds for each of 1 candidates, totalling 3 fits\n",
            "[CV 1/3] END xgbregressor__colsample_bytree=1, xgbregressor__lambda=147.56382413055624, xgbregressor__learning_rate=0.8022827326503775, xgbregressor__max_depth=3, xgbregressor__n_estimators=15, xgbregressor__scale_pos_weight=0.884562563220018, xgbregressor__subsample=1;, score=(train=0.741, test=0.740) total time=   1.3s\n",
            "[CV 2/3] END xgbregressor__colsample_bytree=1, xgbregressor__lambda=147.56382413055624, xgbregressor__learning_rate=0.8022827326503775, xgbregressor__max_depth=3, xgbregressor__n_estimators=15, xgbregressor__scale_pos_weight=0.884562563220018, xgbregressor__subsample=1;, score=(train=0.744, test=0.745) total time=   3.5s\n",
            "[CV 3/3] END xgbregressor__colsample_bytree=1, xgbregressor__lambda=147.56382413055624, xgbregressor__learning_rate=0.8022827326503775, xgbregressor__max_depth=3, xgbregressor__n_estimators=15, xgbregressor__scale_pos_weight=0.884562563220018, xgbregressor__subsample=1;, score=(train=0.742, test=0.737) total time=   3.2s\n",
            "Fitting 3 folds for each of 1 candidates, totalling 3 fits\n",
            "[CV 1/3] END xgbregressor__colsample_bytree=1, xgbregressor__lambda=0.007236023606980012, xgbregressor__learning_rate=0.5778248256728152, xgbregressor__max_depth=9, xgbregressor__n_estimators=42, xgbregressor__scale_pos_weight=0.7908310769150846, xgbregressor__subsample=1;, score=(train=0.923, test=0.895) total time=   5.5s\n",
            "[CV 2/3] END xgbregressor__colsample_bytree=1, xgbregressor__lambda=0.007236023606980012, xgbregressor__learning_rate=0.5778248256728152, xgbregressor__max_depth=9, xgbregressor__n_estimators=42, xgbregressor__scale_pos_weight=0.7908310769150846, xgbregressor__subsample=1;, score=(train=0.928, test=0.901) total time=   7.6s\n",
            "[CV 3/3] END xgbregressor__colsample_bytree=1, xgbregressor__lambda=0.007236023606980012, xgbregressor__learning_rate=0.5778248256728152, xgbregressor__max_depth=9, xgbregressor__n_estimators=42, xgbregressor__scale_pos_weight=0.7908310769150846, xgbregressor__subsample=1;, score=(train=0.929, test=0.891) total time=   7.5s\n",
            "Fitting 3 folds for each of 1 candidates, totalling 3 fits\n",
            "[CV 1/3] END xgbregressor__colsample_bytree=1, xgbregressor__lambda=0.011988807010898361, xgbregressor__learning_rate=0.3450442526092907, xgbregressor__max_depth=10, xgbregressor__n_estimators=28, xgbregressor__scale_pos_weight=0.3965892682451395, xgbregressor__subsample=1;, score=(train=0.914, test=0.888) total time=   4.4s\n",
            "[CV 2/3] END xgbregressor__colsample_bytree=1, xgbregressor__lambda=0.011988807010898361, xgbregressor__learning_rate=0.3450442526092907, xgbregressor__max_depth=10, xgbregressor__n_estimators=28, xgbregressor__scale_pos_weight=0.3965892682451395, xgbregressor__subsample=1;, score=(train=0.916, test=0.891) total time=   4.4s\n",
            "[CV 3/3] END xgbregressor__colsample_bytree=1, xgbregressor__lambda=0.011988807010898361, xgbregressor__learning_rate=0.3450442526092907, xgbregressor__max_depth=10, xgbregressor__n_estimators=28, xgbregressor__scale_pos_weight=0.3965892682451395, xgbregressor__subsample=1;, score=(train=0.918, test=0.886) total time=   6.5s\n",
            "Fitting 3 folds for each of 1 candidates, totalling 3 fits\n",
            "[CV 1/3] END xgbregressor__colsample_bytree=1, xgbregressor__lambda=0.0003733571524730912, xgbregressor__learning_rate=0.46325217078614156, xgbregressor__max_depth=8, xgbregressor__n_estimators=36, xgbregressor__scale_pos_weight=0.777352510441099, xgbregressor__subsample=1;, score=(train=0.907, test=0.889) total time=   5.5s\n",
            "[CV 2/3] END xgbregressor__colsample_bytree=1, xgbregressor__lambda=0.0003733571524730912, xgbregressor__learning_rate=0.46325217078614156, xgbregressor__max_depth=8, xgbregressor__n_estimators=36, xgbregressor__scale_pos_weight=0.777352510441099, xgbregressor__subsample=1;, score=(train=0.905, test=0.892) total time=   6.5s\n",
            "[CV 3/3] END xgbregressor__colsample_bytree=1, xgbregressor__lambda=0.0003733571524730912, xgbregressor__learning_rate=0.46325217078614156, xgbregressor__max_depth=8, xgbregressor__n_estimators=36, xgbregressor__scale_pos_weight=0.777352510441099, xgbregressor__subsample=1;, score=(train=0.909, test=0.888) total time=   5.0s\n",
            "Fitting 3 folds for each of 1 candidates, totalling 3 fits\n",
            "[CV 1/3] END xgbregressor__colsample_bytree=1, xgbregressor__lambda=0.20931613098576254, xgbregressor__learning_rate=0.7984156043513592, xgbregressor__max_depth=4, xgbregressor__n_estimators=33, xgbregressor__scale_pos_weight=0.3611019180722115, xgbregressor__subsample=1;, score=(train=0.859, test=0.856) total time=   5.4s\n",
            "[CV 2/3] END xgbregressor__colsample_bytree=1, xgbregressor__lambda=0.20931613098576254, xgbregressor__learning_rate=0.7984156043513592, xgbregressor__max_depth=4, xgbregressor__n_estimators=33, xgbregressor__scale_pos_weight=0.3611019180722115, xgbregressor__subsample=1;, score=(train=0.853, test=0.852) total time=   2.3s\n",
            "[CV 3/3] END xgbregressor__colsample_bytree=1, xgbregressor__lambda=0.20931613098576254, xgbregressor__learning_rate=0.7984156043513592, xgbregressor__max_depth=4, xgbregressor__n_estimators=33, xgbregressor__scale_pos_weight=0.3611019180722115, xgbregressor__subsample=1;, score=(train=0.860, test=0.851) total time=   2.3s\n",
            "Fitting 3 folds for each of 1 candidates, totalling 3 fits\n",
            "[CV 1/3] END xgbregressor__colsample_bytree=1, xgbregressor__lambda=0.003040584995176207, xgbregressor__learning_rate=0.8922638308144213, xgbregressor__max_depth=1, xgbregressor__n_estimators=16, xgbregressor__scale_pos_weight=0.8721864122363514, xgbregressor__subsample=1;, score=(train=0.544, test=0.543) total time=   1.0s\n",
            "[CV 2/3] END xgbregressor__colsample_bytree=1, xgbregressor__lambda=0.003040584995176207, xgbregressor__learning_rate=0.8922638308144213, xgbregressor__max_depth=1, xgbregressor__n_estimators=16, xgbregressor__scale_pos_weight=0.8721864122363514, xgbregressor__subsample=1;, score=(train=0.545, test=0.541) total time=   1.0s\n",
            "[CV 3/3] END xgbregressor__colsample_bytree=1, xgbregressor__lambda=0.003040584995176207, xgbregressor__learning_rate=0.8922638308144213, xgbregressor__max_depth=1, xgbregressor__n_estimators=16, xgbregressor__scale_pos_weight=0.8721864122363514, xgbregressor__subsample=1;, score=(train=0.543, test=0.546) total time=   1.0s\n",
            "Fitting 3 folds for each of 1 candidates, totalling 3 fits\n",
            "[CV 1/3] END xgbregressor__colsample_bytree=1, xgbregressor__lambda=8.118359219516549, xgbregressor__learning_rate=0.8314278578431253, xgbregressor__max_depth=3, xgbregressor__n_estimators=19, xgbregressor__scale_pos_weight=0.16731892527888997, xgbregressor__subsample=1;, score=(train=0.795, test=0.796) total time=   3.4s\n",
            "[CV 2/3] END xgbregressor__colsample_bytree=1, xgbregressor__lambda=8.118359219516549, xgbregressor__learning_rate=0.8314278578431253, xgbregressor__max_depth=3, xgbregressor__n_estimators=19, xgbregressor__scale_pos_weight=0.16731892527888997, xgbregressor__subsample=1;, score=(train=0.796, test=0.797) total time=   1.4s\n",
            "[CV 3/3] END xgbregressor__colsample_bytree=1, xgbregressor__lambda=8.118359219516549, xgbregressor__learning_rate=0.8314278578431253, xgbregressor__max_depth=3, xgbregressor__n_estimators=19, xgbregressor__scale_pos_weight=0.16731892527888997, xgbregressor__subsample=1;, score=(train=0.806, test=0.800) total time=   1.4s\n"
          ]
        },
        {
          "output_type": "execute_result",
          "data": {
            "text/plain": [
              "BayesSearchCV(cv=3,\n",
              "              estimator=Pipeline(steps=[('columntransformer',\n",
              "                                         ColumnTransformer(transformers=[('powertransformer',\n",
              "                                                                          PowerTransformer(),\n",
              "                                                                          (0, 3,\n",
              "                                                                           4)),\n",
              "                                                                         ('onehotencoder',\n",
              "                                                                          OneHotEncoder(drop='first',\n",
              "                                                                                        handle_unknown='ignore'),\n",
              "                                                                          (1, 2,\n",
              "                                                                           5,\n",
              "                                                                           6))])),\n",
              "                                        ('xgbregressor',\n",
              "                                         XGBRegressor(base_score=None,\n",
              "                                                      booster=None,\n",
              "                                                      callbacks=None,\n",
              "                                                      colsample_bylevel=None,\n",
              "                                                      colsample_bynode=None,\n",
              "                                                      col...\n",
              "              scoring='r2',\n",
              "              search_spaces={'xgbregressor__colsample_bytree': (0.7, 1,\n",
              "                                                                'uniform'),\n",
              "                             'xgbregressor__lambda': (0.0001, 1000.0,\n",
              "                                                      'log-uniform'),\n",
              "                             'xgbregressor__learning_rate': (0.1, 0.99,\n",
              "                                                             'uniform'),\n",
              "                             'xgbregressor__max_depth': (1, 10),\n",
              "                             'xgbregressor__n_estimators': (3, 50),\n",
              "                             'xgbregressor__scale_pos_weight': (0.15, 0.99,\n",
              "                                                                'uniform'),\n",
              "                             'xgbregressor__subsample': (0.7, 1, 'uniform')},\n",
              "              verbose=4)"
            ],
            "text/html": [
              "<style>#sk-container-id-4 {color: black;background-color: white;}#sk-container-id-4 pre{padding: 0;}#sk-container-id-4 div.sk-toggleable {background-color: white;}#sk-container-id-4 label.sk-toggleable__label {cursor: pointer;display: block;width: 100%;margin-bottom: 0;padding: 0.3em;box-sizing: border-box;text-align: center;}#sk-container-id-4 label.sk-toggleable__label-arrow:before {content: \"▸\";float: left;margin-right: 0.25em;color: #696969;}#sk-container-id-4 label.sk-toggleable__label-arrow:hover:before {color: black;}#sk-container-id-4 div.sk-estimator:hover label.sk-toggleable__label-arrow:before {color: black;}#sk-container-id-4 div.sk-toggleable__content {max-height: 0;max-width: 0;overflow: hidden;text-align: left;background-color: #f0f8ff;}#sk-container-id-4 div.sk-toggleable__content pre {margin: 0.2em;color: black;border-radius: 0.25em;background-color: #f0f8ff;}#sk-container-id-4 input.sk-toggleable__control:checked~div.sk-toggleable__content {max-height: 200px;max-width: 100%;overflow: auto;}#sk-container-id-4 input.sk-toggleable__control:checked~label.sk-toggleable__label-arrow:before {content: \"▾\";}#sk-container-id-4 div.sk-estimator input.sk-toggleable__control:checked~label.sk-toggleable__label {background-color: #d4ebff;}#sk-container-id-4 div.sk-label input.sk-toggleable__control:checked~label.sk-toggleable__label {background-color: #d4ebff;}#sk-container-id-4 input.sk-hidden--visually {border: 0;clip: rect(1px 1px 1px 1px);clip: rect(1px, 1px, 1px, 1px);height: 1px;margin: -1px;overflow: hidden;padding: 0;position: absolute;width: 1px;}#sk-container-id-4 div.sk-estimator {font-family: monospace;background-color: #f0f8ff;border: 1px dotted black;border-radius: 0.25em;box-sizing: border-box;margin-bottom: 0.5em;}#sk-container-id-4 div.sk-estimator:hover {background-color: #d4ebff;}#sk-container-id-4 div.sk-parallel-item::after {content: \"\";width: 100%;border-bottom: 1px solid gray;flex-grow: 1;}#sk-container-id-4 div.sk-label:hover label.sk-toggleable__label {background-color: #d4ebff;}#sk-container-id-4 div.sk-serial::before {content: \"\";position: absolute;border-left: 1px solid gray;box-sizing: border-box;top: 0;bottom: 0;left: 50%;z-index: 0;}#sk-container-id-4 div.sk-serial {display: flex;flex-direction: column;align-items: center;background-color: white;padding-right: 0.2em;padding-left: 0.2em;position: relative;}#sk-container-id-4 div.sk-item {position: relative;z-index: 1;}#sk-container-id-4 div.sk-parallel {display: flex;align-items: stretch;justify-content: center;background-color: white;position: relative;}#sk-container-id-4 div.sk-item::before, #sk-container-id-4 div.sk-parallel-item::before {content: \"\";position: absolute;border-left: 1px solid gray;box-sizing: border-box;top: 0;bottom: 0;left: 50%;z-index: -1;}#sk-container-id-4 div.sk-parallel-item {display: flex;flex-direction: column;z-index: 1;position: relative;background-color: white;}#sk-container-id-4 div.sk-parallel-item:first-child::after {align-self: flex-end;width: 50%;}#sk-container-id-4 div.sk-parallel-item:last-child::after {align-self: flex-start;width: 50%;}#sk-container-id-4 div.sk-parallel-item:only-child::after {width: 0;}#sk-container-id-4 div.sk-dashed-wrapped {border: 1px dashed gray;margin: 0 0.4em 0.5em 0.4em;box-sizing: border-box;padding-bottom: 0.4em;background-color: white;}#sk-container-id-4 div.sk-label label {font-family: monospace;font-weight: bold;display: inline-block;line-height: 1.2em;}#sk-container-id-4 div.sk-label-container {text-align: center;}#sk-container-id-4 div.sk-container {/* jupyter's `normalize.less` sets `[hidden] { display: none; }` but bootstrap.min.css set `[hidden] { display: none !important; }` so we also need the `!important` here to be able to override the default hidden behavior on the sphinx rendered scikit-learn.org. See: https://github.com/scikit-learn/scikit-learn/issues/21755 */display: inline-block !important;position: relative;}#sk-container-id-4 div.sk-text-repr-fallback {display: none;}</style><div id=\"sk-container-id-4\" class=\"sk-top-container\"><div class=\"sk-text-repr-fallback\"><pre>BayesSearchCV(cv=3,\n",
              "              estimator=Pipeline(steps=[(&#x27;columntransformer&#x27;,\n",
              "                                         ColumnTransformer(transformers=[(&#x27;powertransformer&#x27;,\n",
              "                                                                          PowerTransformer(),\n",
              "                                                                          (0, 3,\n",
              "                                                                           4)),\n",
              "                                                                         (&#x27;onehotencoder&#x27;,\n",
              "                                                                          OneHotEncoder(drop=&#x27;first&#x27;,\n",
              "                                                                                        handle_unknown=&#x27;ignore&#x27;),\n",
              "                                                                          (1, 2,\n",
              "                                                                           5,\n",
              "                                                                           6))])),\n",
              "                                        (&#x27;xgbregressor&#x27;,\n",
              "                                         XGBRegressor(base_score=None,\n",
              "                                                      booster=None,\n",
              "                                                      callbacks=None,\n",
              "                                                      colsample_bylevel=None,\n",
              "                                                      colsample_bynode=None,\n",
              "                                                      col...\n",
              "              scoring=&#x27;r2&#x27;,\n",
              "              search_spaces={&#x27;xgbregressor__colsample_bytree&#x27;: (0.7, 1,\n",
              "                                                                &#x27;uniform&#x27;),\n",
              "                             &#x27;xgbregressor__lambda&#x27;: (0.0001, 1000.0,\n",
              "                                                      &#x27;log-uniform&#x27;),\n",
              "                             &#x27;xgbregressor__learning_rate&#x27;: (0.1, 0.99,\n",
              "                                                             &#x27;uniform&#x27;),\n",
              "                             &#x27;xgbregressor__max_depth&#x27;: (1, 10),\n",
              "                             &#x27;xgbregressor__n_estimators&#x27;: (3, 50),\n",
              "                             &#x27;xgbregressor__scale_pos_weight&#x27;: (0.15, 0.99,\n",
              "                                                                &#x27;uniform&#x27;),\n",
              "                             &#x27;xgbregressor__subsample&#x27;: (0.7, 1, &#x27;uniform&#x27;)},\n",
              "              verbose=4)</pre><b>In a Jupyter environment, please rerun this cell to show the HTML representation or trust the notebook. <br />On GitHub, the HTML representation is unable to render, please try loading this page with nbviewer.org.</b></div><div class=\"sk-container\" hidden><div class=\"sk-item sk-dashed-wrapped\"><div class=\"sk-label-container\"><div class=\"sk-label sk-toggleable\"><input class=\"sk-toggleable__control sk-hidden--visually\" id=\"sk-estimator-id-25\" type=\"checkbox\" ><label for=\"sk-estimator-id-25\" class=\"sk-toggleable__label sk-toggleable__label-arrow\">BayesSearchCV</label><div class=\"sk-toggleable__content\"><pre>BayesSearchCV(cv=3,\n",
              "              estimator=Pipeline(steps=[(&#x27;columntransformer&#x27;,\n",
              "                                         ColumnTransformer(transformers=[(&#x27;powertransformer&#x27;,\n",
              "                                                                          PowerTransformer(),\n",
              "                                                                          (0, 3,\n",
              "                                                                           4)),\n",
              "                                                                         (&#x27;onehotencoder&#x27;,\n",
              "                                                                          OneHotEncoder(drop=&#x27;first&#x27;,\n",
              "                                                                                        handle_unknown=&#x27;ignore&#x27;),\n",
              "                                                                          (1, 2,\n",
              "                                                                           5,\n",
              "                                                                           6))])),\n",
              "                                        (&#x27;xgbregressor&#x27;,\n",
              "                                         XGBRegressor(base_score=None,\n",
              "                                                      booster=None,\n",
              "                                                      callbacks=None,\n",
              "                                                      colsample_bylevel=None,\n",
              "                                                      colsample_bynode=None,\n",
              "                                                      col...\n",
              "              scoring=&#x27;r2&#x27;,\n",
              "              search_spaces={&#x27;xgbregressor__colsample_bytree&#x27;: (0.7, 1,\n",
              "                                                                &#x27;uniform&#x27;),\n",
              "                             &#x27;xgbregressor__lambda&#x27;: (0.0001, 1000.0,\n",
              "                                                      &#x27;log-uniform&#x27;),\n",
              "                             &#x27;xgbregressor__learning_rate&#x27;: (0.1, 0.99,\n",
              "                                                             &#x27;uniform&#x27;),\n",
              "                             &#x27;xgbregressor__max_depth&#x27;: (1, 10),\n",
              "                             &#x27;xgbregressor__n_estimators&#x27;: (3, 50),\n",
              "                             &#x27;xgbregressor__scale_pos_weight&#x27;: (0.15, 0.99,\n",
              "                                                                &#x27;uniform&#x27;),\n",
              "                             &#x27;xgbregressor__subsample&#x27;: (0.7, 1, &#x27;uniform&#x27;)},\n",
              "              verbose=4)</pre></div></div></div><div class=\"sk-parallel\"><div class=\"sk-parallel-item\"><div class=\"sk-item\"><div class=\"sk-label-container\"><div class=\"sk-label sk-toggleable\"><input class=\"sk-toggleable__control sk-hidden--visually\" id=\"sk-estimator-id-26\" type=\"checkbox\" ><label for=\"sk-estimator-id-26\" class=\"sk-toggleable__label sk-toggleable__label-arrow\">estimator: Pipeline</label><div class=\"sk-toggleable__content\"><pre>Pipeline(steps=[(&#x27;columntransformer&#x27;,\n",
              "                 ColumnTransformer(transformers=[(&#x27;powertransformer&#x27;,\n",
              "                                                  PowerTransformer(),\n",
              "                                                  (0, 3, 4)),\n",
              "                                                 (&#x27;onehotencoder&#x27;,\n",
              "                                                  OneHotEncoder(drop=&#x27;first&#x27;,\n",
              "                                                                handle_unknown=&#x27;ignore&#x27;),\n",
              "                                                  (1, 2, 5, 6))])),\n",
              "                (&#x27;xgbregressor&#x27;,\n",
              "                 XGBRegressor(base_score=None, booster=None, callbacks=None,\n",
              "                              colsample_bylevel=None, colsample_bynode=None,\n",
              "                              colsample_bytree=None, early_stop...\n",
              "                              feature_types=None, gamma=None, gpu_id=None,\n",
              "                              grow_policy=None, importance_type=None,\n",
              "                              interaction_constraints=None, learning_rate=None,\n",
              "                              max_bin=None, max_cat_threshold=None,\n",
              "                              max_cat_to_onehot=None, max_delta_step=None,\n",
              "                              max_depth=None, max_leaves=None,\n",
              "                              min_child_weight=None, missing=nan,\n",
              "                              monotone_constraints=None, n_estimators=100,\n",
              "                              n_jobs=None, num_parallel_tree=None,\n",
              "                              predictor=None, random_state=15, ...))])</pre></div></div></div><div class=\"sk-serial\"><div class=\"sk-item\"><div class=\"sk-serial\"><div class=\"sk-item sk-dashed-wrapped\"><div class=\"sk-label-container\"><div class=\"sk-label sk-toggleable\"><input class=\"sk-toggleable__control sk-hidden--visually\" id=\"sk-estimator-id-27\" type=\"checkbox\" ><label for=\"sk-estimator-id-27\" class=\"sk-toggleable__label sk-toggleable__label-arrow\">columntransformer: ColumnTransformer</label><div class=\"sk-toggleable__content\"><pre>ColumnTransformer(transformers=[(&#x27;powertransformer&#x27;, PowerTransformer(),\n",
              "                                 (0, 3, 4)),\n",
              "                                (&#x27;onehotencoder&#x27;,\n",
              "                                 OneHotEncoder(drop=&#x27;first&#x27;,\n",
              "                                               handle_unknown=&#x27;ignore&#x27;),\n",
              "                                 (1, 2, 5, 6))])</pre></div></div></div><div class=\"sk-parallel\"><div class=\"sk-parallel-item\"><div class=\"sk-item\"><div class=\"sk-label-container\"><div class=\"sk-label sk-toggleable\"><input class=\"sk-toggleable__control sk-hidden--visually\" id=\"sk-estimator-id-28\" type=\"checkbox\" ><label for=\"sk-estimator-id-28\" class=\"sk-toggleable__label sk-toggleable__label-arrow\">powertransformer</label><div class=\"sk-toggleable__content\"><pre>(0, 3, 4)</pre></div></div></div><div class=\"sk-serial\"><div class=\"sk-item\"><div class=\"sk-estimator sk-toggleable\"><input class=\"sk-toggleable__control sk-hidden--visually\" id=\"sk-estimator-id-29\" type=\"checkbox\" ><label for=\"sk-estimator-id-29\" class=\"sk-toggleable__label sk-toggleable__label-arrow\">PowerTransformer</label><div class=\"sk-toggleable__content\"><pre>PowerTransformer()</pre></div></div></div></div></div></div><div class=\"sk-parallel-item\"><div class=\"sk-item\"><div class=\"sk-label-container\"><div class=\"sk-label sk-toggleable\"><input class=\"sk-toggleable__control sk-hidden--visually\" id=\"sk-estimator-id-30\" type=\"checkbox\" ><label for=\"sk-estimator-id-30\" class=\"sk-toggleable__label sk-toggleable__label-arrow\">onehotencoder</label><div class=\"sk-toggleable__content\"><pre>(1, 2, 5, 6)</pre></div></div></div><div class=\"sk-serial\"><div class=\"sk-item\"><div class=\"sk-estimator sk-toggleable\"><input class=\"sk-toggleable__control sk-hidden--visually\" id=\"sk-estimator-id-31\" type=\"checkbox\" ><label for=\"sk-estimator-id-31\" class=\"sk-toggleable__label sk-toggleable__label-arrow\">OneHotEncoder</label><div class=\"sk-toggleable__content\"><pre>OneHotEncoder(drop=&#x27;first&#x27;, handle_unknown=&#x27;ignore&#x27;)</pre></div></div></div></div></div></div></div></div><div class=\"sk-item\"><div class=\"sk-estimator sk-toggleable\"><input class=\"sk-toggleable__control sk-hidden--visually\" id=\"sk-estimator-id-32\" type=\"checkbox\" ><label for=\"sk-estimator-id-32\" class=\"sk-toggleable__label sk-toggleable__label-arrow\">XGBRegressor</label><div class=\"sk-toggleable__content\"><pre>XGBRegressor(base_score=None, booster=None, callbacks=None,\n",
              "             colsample_bylevel=None, colsample_bynode=None,\n",
              "             colsample_bytree=None, early_stopping_rounds=None,\n",
              "             enable_categorical=False, eval_metric=None, feature_types=None,\n",
              "             gamma=None, gpu_id=None, grow_policy=None, importance_type=None,\n",
              "             interaction_constraints=None, learning_rate=None, max_bin=None,\n",
              "             max_cat_threshold=None, max_cat_to_onehot=None,\n",
              "             max_delta_step=None, max_depth=None, max_leaves=None,\n",
              "             min_child_weight=None, missing=nan, monotone_constraints=None,\n",
              "             n_estimators=100, n_jobs=None, num_parallel_tree=None,\n",
              "             predictor=None, random_state=15, ...)</pre></div></div></div></div></div></div></div></div></div></div></div></div>"
            ]
          },
          "metadata": {},
          "execution_count": 140
        }
      ]
    },
    {
      "cell_type": "code",
      "source": [
        "n_iter=10\n",
        "sns.set_style(\"whitegrid\")\n",
        "plt.figure(figsize=(12,7))\n",
        "sns.lineplot(np.arange(n_iter), y=opt_xgb.cv_results_['mean_train_score'], label='mean train r2 score')\n",
        "sns.lineplot(np.arange(n_iter), y=opt_xgb.cv_results_['mean_test_score'], label='mean cv r2 score')\n",
        "plt.xticks(np.arange(n_iter))\n",
        "plt.tick_params(labelright=True)\n",
        "plt.xlabel('index no. of search result')\n",
        "plt.ylabel('mean train and cv r2 score')\n",
        "plt.title('Train & CV curve for hyperparameter selection')\n",
        "plt.legend()\n",
        "plt.show()"
      ],
      "metadata": {
        "colab": {
          "base_uri": "https://localhost:8080/",
          "height": 458
        },
        "id": "sXqKP0NBheLz",
        "outputId": "1b88ac82-df04-4d19-e895-75e1374505ab"
      },
      "execution_count": null,
      "outputs": [
        {
          "output_type": "display_data",
          "data": {
            "text/plain": [
              "<Figure size 864x504 with 1 Axes>"
            ],
            "image/png": "[encoded data removed]"
          },
          "metadata": {}
        }
      ]
    },
    {
      "cell_type": "markdown",
      "source": [
        "Getting r2 score for full train data and unseen test data using best hyperparameter from above plot."
      ],
      "metadata": {
        "id": "J3UAtHfMX7Hm"
      }
    },
    {
      "cell_type": "code",
      "source": [
        "opt_xgb.cv_results_['mean_train_score'][4] , opt_xgb.cv_results_['mean_test_score'][4]"
      ],
      "metadata": {
        "colab": {
          "base_uri": "https://localhost:8080/"
        },
        "id": "a4wknMZqh8GB",
        "outputId": "1ecd20d5-df99-43f2-9cbb-35bf4ccfaca3"
      },
      "execution_count": null,
      "outputs": [
        {
          "output_type": "execute_result",
          "data": {
            "text/plain": [
              "(0.9268656037869113, 0.8959333712543035)"
            ]
          },
          "metadata": {},
          "execution_count": 164
        }
      ]
    },
    {
      "cell_type": "code",
      "source": [
        "param=opt_xgb.cv_results_['params'][4] # selecting index no. 4 from above plot\n",
        "param"
      ],
      "metadata": {
        "colab": {
          "base_uri": "https://localhost:8080/"
        },
        "id": "a0D21SUS_IGP",
        "outputId": "c084179a-5cf0-46c5-c496-02a38bca229c"
      },
      "execution_count": null,
      "outputs": [
        {
          "output_type": "execute_result",
          "data": {
            "text/plain": [
              "OrderedDict([('xgbregressor__colsample_bytree', 1),\n",
              "             ('xgbregressor__lambda', 0.007236023606980012),\n",
              "             ('xgbregressor__learning_rate', 0.5778248256728152),\n",
              "             ('xgbregressor__max_depth', 9),\n",
              "             ('xgbregressor__n_estimators', 42),\n",
              "             ('xgbregressor__scale_pos_weight', 0.7908310769150846),\n",
              "             ('xgbregressor__subsample', 1)])"
            ]
          },
          "metadata": {},
          "execution_count": 142
        }
      ]
    },
    {
      "cell_type": "code",
      "source": [
        "pipe_xgb.set_params(**param)\n",
        "pipe_xgb.fit(x,y)\n",
        "y_predict_train = pipe_xgb.predict(x)\n",
        "y_predict_test = pipe_xgb.predict(x_test)\n",
        "r2_train = r2_score(y, y_predict_train )\n",
        "r2_test = r2_score(y_test_, y_predict_test )\n",
        "print('Train R2 Score:', r2_train)\n",
        "print('Test R2 Score:', r2_test )"
      ],
      "metadata": {
        "colab": {
          "base_uri": "https://localhost:8080/"
        },
        "id": "4lAxA96sX0v3",
        "outputId": "61252ec2-567b-4c6c-d875-acff8c88dc2b"
      },
      "execution_count": null,
      "outputs": [
        {
          "output_type": "stream",
          "name": "stdout",
          "text": [
            "Train R2 Score: 0.9231371993472588\n",
            "Test R2 Score: 0.9017034660315767\n"
          ]
        }
      ]
    },
    {
      "cell_type": "markdown",
      "source": [
        "**Feature Importance:**"
      ],
      "metadata": {
        "id": "7YoBHWzBYHv_"
      }
    },
    {
      "cell_type": "code",
      "source": [
        "impt = pipe_xgb.named_steps.xgbregressor.feature_importances_\n",
        "sorted_impt = np.argsort(impt)[::-1]"
      ],
      "metadata": {
        "id": "VFbRygngB-lm"
      },
      "execution_count": null,
      "outputs": []
    },
    {
      "cell_type": "code",
      "source": [
        "sorted_impt_onehot = sorted_impt[np.where(sorted_impt>2)[0]]-3"
      ],
      "metadata": {
        "id": "eOM9btqVDU5T"
      },
      "execution_count": null,
      "outputs": []
    },
    {
      "cell_type": "code",
      "source": [
        "xg = pd.DataFrame() # top 10 impt. features\n",
        "xg['features'] = onehot_features[sorted_impt_onehot[:10]]\n",
        "xg['normalized impt. value'] = impt[sorted_impt_onehot[:10]+3]\n",
        "xg"
      ],
      "metadata": {
        "colab": {
          "base_uri": "https://localhost:8080/",
          "height": 363
        },
        "id": "Lm3A_ccIYMOj",
        "outputId": "61de5f9f-ffae-4df7-90bb-a7f9fb67be2e"
      },
      "execution_count": null,
      "outputs": [
        {
          "output_type": "execute_result",
          "data": {
            "text/plain": [
              "                   features  normalized impt. value\n",
              "0        product_ref_611993                0.123631\n",
              "1  delivery date_20210801.0                0.080308\n",
              "2     status_To be approved                0.073519\n",
              "3  delivery date_20210701.0                0.070179\n",
              "4  delivery date_20210901.0                0.050021\n",
              "5  delivery date_20210501.0                0.044359\n",
              "6  delivery date_20210601.0                0.040222\n",
              "7  delivery date_20200801.0                0.039318\n",
              "8  delivery date_20211001.0                0.038207\n",
              "9            status_Revised                0.035667"
            ],
            "text/html": [
              "\n",
              "  <div id=\"df-60731e2a-06c9-4292-99bb-dcfd5f4d0988\">\n",
              "    <div class=\"colab-df-container\">\n",
              "      <div>\n",
              "<style scoped>\n",
              "    .dataframe tbody tr th:only-of-type {\n",
              "        vertical-align: middle;\n",
              "    }\n",
              "\n",
              "    .dataframe tbody tr th {\n",
              "        vertical-align: top;\n",
              "    }\n",
              "\n",
              "    .dataframe thead th {\n",
              "        text-align: right;\n",
              "    }\n",
              "</style>\n",
              "<table border=\"1\" class=\"dataframe\">\n",
              "  <thead>\n",
              "    <tr style=\"text-align: right;\">\n",
              "      <th></th>\n",
              "      <th>features</th>\n",
              "      <th>normalized impt. value</th>\n",
              "    </tr>\n",
              "  </thead>\n",
              "  <tbody>\n",
              "    <tr>\n",
              "      <th>0</th>\n",
              "      <td>product_ref_611993</td>\n",
              "      <td>0.123631</td>\n",
              "    </tr>\n",
              "    <tr>\n",
              "      <th>1</th>\n",
              "      <td>delivery date_20210801.0</td>\n",
              "      <td>0.080308</td>\n",
              "    </tr>\n",
              "    <tr>\n",
              "      <th>2</th>\n",
              "      <td>status_To be approved</td>\n",
              "      <td>0.073519</td>\n",
              "    </tr>\n",
              "    <tr>\n",
              "      <th>3</th>\n",
              "      <td>delivery date_20210701.0</td>\n",
              "      <td>0.070179</td>\n",
              "    </tr>\n",
              "    <tr>\n",
              "      <th>4</th>\n",
              "      <td>delivery date_20210901.0</td>\n",
              "      <td>0.050021</td>\n",
              "    </tr>\n",
              "    <tr>\n",
              "      <th>5</th>\n",
              "      <td>delivery date_20210501.0</td>\n",
              "      <td>0.044359</td>\n",
              "    </tr>\n",
              "    <tr>\n",
              "      <th>6</th>\n",
              "      <td>delivery date_20210601.0</td>\n",
              "      <td>0.040222</td>\n",
              "    </tr>\n",
              "    <tr>\n",
              "      <th>7</th>\n",
              "      <td>delivery date_20200801.0</td>\n",
              "      <td>0.039318</td>\n",
              "    </tr>\n",
              "    <tr>\n",
              "      <th>8</th>\n",
              "      <td>delivery date_20211001.0</td>\n",
              "      <td>0.038207</td>\n",
              "    </tr>\n",
              "    <tr>\n",
              "      <th>9</th>\n",
              "      <td>status_Revised</td>\n",
              "      <td>0.035667</td>\n",
              "    </tr>\n",
              "  </tbody>\n",
              "</table>\n",
              "</div>\n",
              "      <button class=\"colab-df-convert\" onclick=\"convertToInteractive('df-60731e2a-06c9-4292-99bb-dcfd5f4d0988')\"\n",
              "              title=\"Convert this dataframe to an interactive table.\"\n",
              "              style=\"display:none;\">\n",
              "        \n",
              "  <svg xmlns=\"http://www.w3.org/2000/svg\" height=\"24px\"viewBox=\"0 0 24 24\"\n",
              "       width=\"24px\">\n",
              "    <path d=\"M0 0h24v24H0V0z\" fill=\"none\"/>\n",
              "    <path d=\"M18.56 5.44l.94 2.06.94-2.06 2.06-.94-2.06-.94-.94-2.06-.94 2.06-2.06.94zm-11 1L8.5 8.5l.94-2.06 2.06-.94-2.06-.94L8.5 2.5l-.94 2.06-2.06.94zm10 10l.94 2.06.94-2.06 2.06-.94-2.06-.94-.94-2.06-.94 2.06-2.06.94z\"/><path d=\"M17.41 7.96l-1.37-1.37c-.4-.4-.92-.59-1.43-.59-.52 0-1.04.2-1.43.59L10.3 9.45l-7.72 7.72c-.78.78-.78 2.05 0 2.83L4 21.41c.39.39.9.59 1.41.59.51 0 1.02-.2 1.41-.59l7.78-7.78 2.81-2.81c.8-.78.8-2.07 0-2.86zM5.41 20L4 18.59l7.72-7.72 1.47 1.35L5.41 20z\"/>\n",
              "  </svg>\n",
              "      </button>\n",
              "      \n",
              "  <style>\n",
              "    .colab-df-container {\n",
              "      display:flex;\n",
              "      flex-wrap:wrap;\n",
              "      gap: 12px;\n",
              "    }\n",
              "\n",
              "    .colab-df-convert {\n",
              "      background-color: #E8F0FE;\n",
              "      border: none;\n",
              "      border-radius: 50%;\n",
              "      cursor: pointer;\n",
              "      display: none;\n",
              "      fill: #1967D2;\n",
              "      height: 32px;\n",
              "      padding: 0 0 0 0;\n",
              "      width: 32px;\n",
              "    }\n",
              "\n",
              "    .colab-df-convert:hover {\n",
              "      background-color: #E2EBFA;\n",
              "      box-shadow: 0px 1px 2px rgba(60, 64, 67, 0.3), 0px 1px 3px 1px rgba(60, 64, 67, 0.15);\n",
              "      fill: #174EA6;\n",
              "    }\n",
              "\n",
              "    [theme=dark] .colab-df-convert {\n",
              "      background-color: #3B4455;\n",
              "      fill: #D2E3FC;\n",
              "    }\n",
              "\n",
              "    [theme=dark] .colab-df-convert:hover {\n",
              "      background-color: #434B5C;\n",
              "      box-shadow: 0px 1px 3px 1px rgba(0, 0, 0, 0.15);\n",
              "      filter: drop-shadow(0px 1px 2px rgba(0, 0, 0, 0.3));\n",
              "      fill: #FFFFFF;\n",
              "    }\n",
              "  </style>\n",
              "\n",
              "      <script>\n",
              "        const buttonEl =\n",
              "          document.querySelector('#df-60731e2a-06c9-4292-99bb-dcfd5f4d0988 button.colab-df-convert');\n",
              "        buttonEl.style.display =\n",
              "          google.colab.kernel.accessAllowed ? 'block' : 'none';\n",
              "\n",
              "        async function convertToInteractive(key) {\n",
              "          const element = document.querySelector('#df-60731e2a-06c9-4292-99bb-dcfd5f4d0988');\n",
              "          const dataTable =\n",
              "            await google.colab.kernel.invokeFunction('convertToInteractive',\n",
              "                                                     [key], {});\n",
              "          if (!dataTable) return;\n",
              "\n",
              "          const docLinkHtml = 'Like what you see? Visit the ' +\n",
              "            '<a target=\"_blank\" href=https://colab.research.google.com/notebooks/data_table.ipynb>data table notebook</a>'\n",
              "            + ' to learn more about interactive tables.';\n",
              "          element.innerHTML = '';\n",
              "          dataTable['output_type'] = 'display_data';\n",
              "          await google.colab.output.renderOutput(dataTable, element);\n",
              "          const docLink = document.createElement('div');\n",
              "          docLink.innerHTML = docLinkHtml;\n",
              "          element.appendChild(docLink);\n",
              "        }\n",
              "      </script>\n",
              "    </div>\n",
              "  </div>\n",
              "  "
            ]
          },
          "metadata": {},
          "execution_count": 146
        }
      ]
    },
    {
      "cell_type": "markdown",
      "source": [
        "**Deep Neural Network:**"
      ],
      "metadata": {
        "id": "Wn9hPwtkYrTX"
      }
    },
    {
      "cell_type": "code",
      "source": [
        "import tensorflow as tf\n",
        "from tensorflow.keras.layers import Dense,Input,Activation,Dropout\n",
        "from tensorflow.keras.models import Model\n",
        "from tensorflow.keras.optimizers import SGD, Adam"
      ],
      "metadata": {
        "id": "2gj58fm0J2el"
      },
      "execution_count": null,
      "outputs": []
    },
    {
      "cell_type": "code",
      "source": [
        "X_trn, X_val, y_trn, y_val = train_test_split(x, y, test_size=0.10,random_state=92) #splitting train into train and val"
      ],
      "metadata": {
        "id": "-wyXHh9ULaKT"
      },
      "execution_count": null,
      "outputs": []
    },
    {
      "cell_type": "code",
      "source": [
        "X_trn = transform.fit_transform(X_trn).toarray() #transforming \n",
        "X_val = transform.transform(X_val).toarray()"
      ],
      "metadata": {
        "id": "Hpsfa1zOLzVh"
      },
      "execution_count": null,
      "outputs": []
    },
    {
      "cell_type": "code",
      "source": [
        "input_layer = Input(shape=(X_trn.shape[1],))\n",
        "layer1 = Dense(512,activation='relu',kernel_initializer=tf.keras.initializers.HeNormal(22))(input_layer)\n",
        "layer2 = Dense(256,activation='relu',kernel_initializer=tf.keras.initializers.HeNormal(47))(layer1)\n",
        "layer3 = Dense(128,activation='relu',kernel_initializer=tf.keras.initializers.HeNormal(85))(layer2)\n",
        "layer4 = Dense(64,activation='relu',kernel_initializer=tf.keras.initializers.HeNormal(57))(layer3)\n",
        "layer5 = Dense(32,activation='relu',kernel_initializer=tf.keras.initializers.HeNormal(75))(layer4)\n",
        "layer6 = Dense(16,activation='relu',kernel_initializer=tf.keras.initializers.HeNormal(89))(layer5)\n",
        "output = Dense(1,activation=None,kernel_initializer=tf.keras.initializers.HeNormal(95))(layer6)\n",
        "model = Model(inputs=input_layer,outputs=output)"
      ],
      "metadata": {
        "id": "h2ff8ys4E8Q4"
      },
      "execution_count": null,
      "outputs": []
    },
    {
      "cell_type": "code",
      "source": [
        "!pip install tensorflow-addons"
      ],
      "metadata": {
        "id": "5hnsZUMVs4U3"
      },
      "execution_count": null,
      "outputs": []
    },
    {
      "cell_type": "code",
      "source": [
        "import tensorflow_addons as tfa"
      ],
      "metadata": {
        "id": "gBaLP0eRs9t5"
      },
      "execution_count": null,
      "outputs": []
    },
    {
      "cell_type": "code",
      "source": [
        "optimizer = tf.keras.optimizers.Adam()\n",
        "\n",
        "model.compile(optimizer=optimizer, loss='mean_squared_error',metrics=[tfa.metrics.r_square.RSquare()])\n",
        "\n",
        "model_hist = model.fit(X_trn,y_trn,epochs=20, validation_data=(X_val,y_val), batch_size=1024)"
      ],
      "metadata": {
        "colab": {
          "base_uri": "https://localhost:8080/"
        },
        "id": "vkQW0C0lt4eI",
        "outputId": "3bdd3fa2-a3f1-4252-a08a-ba58ad2fe418"
      },
      "execution_count": null,
      "outputs": [
        {
          "output_type": "stream",
          "name": "stdout",
          "text": [
            "Epoch 1/20\n",
            "144/144 [==============================] - 5s 30ms/step - loss: 139149.0000 - r_square: -1.7486 - val_loss: 19986.8516 - val_r_square: 0.6107\n",
            "Epoch 2/20\n",
            "144/144 [==============================] - 5s 35ms/step - loss: 16327.1318 - r_square: 0.6775 - val_loss: 14372.2666 - val_r_square: 0.7201\n",
            "Epoch 3/20\n",
            "144/144 [==============================] - 4s 29ms/step - loss: 11445.1670 - r_square: 0.7739 - val_loss: 9507.2881 - val_r_square: 0.8148\n",
            "Epoch 4/20\n",
            "144/144 [==============================] - 4s 28ms/step - loss: 7661.6602 - r_square: 0.8487 - val_loss: 6947.0249 - val_r_square: 0.8647\n",
            "Epoch 5/20\n",
            "144/144 [==============================] - 6s 43ms/step - loss: 6484.5166 - r_square: 0.8719 - val_loss: 6525.3159 - val_r_square: 0.8729\n",
            "Epoch 6/20\n",
            "144/144 [==============================] - 4s 28ms/step - loss: 6196.0474 - r_square: 0.8776 - val_loss: 6334.3193 - val_r_square: 0.8766\n",
            "Epoch 7/20\n",
            "144/144 [==============================] - 4s 30ms/step - loss: 6029.6758 - r_square: 0.8809 - val_loss: 6223.4165 - val_r_square: 0.8788\n",
            "Epoch 8/20\n",
            "144/144 [==============================] - 5s 36ms/step - loss: 5929.6089 - r_square: 0.8829 - val_loss: 6220.5576 - val_r_square: 0.8788\n",
            "Epoch 9/20\n",
            "144/144 [==============================] - 4s 28ms/step - loss: 5832.2729 - r_square: 0.8848 - val_loss: 6061.6108 - val_r_square: 0.8819\n",
            "Epoch 10/20\n",
            "144/144 [==============================] - 4s 31ms/step - loss: 5730.9697 - r_square: 0.8868 - val_loss: 6006.5420 - val_r_square: 0.8830\n",
            "Epoch 11/20\n",
            "144/144 [==============================] - 4s 31ms/step - loss: 5699.3882 - r_square: 0.8874 - val_loss: 5915.9536 - val_r_square: 0.8848\n",
            "Epoch 12/20\n",
            "144/144 [==============================] - 4s 28ms/step - loss: 5637.7100 - r_square: 0.8886 - val_loss: 5881.1011 - val_r_square: 0.8854\n",
            "Epoch 13/20\n",
            "144/144 [==============================] - 6s 41ms/step - loss: 5577.2896 - r_square: 0.8898 - val_loss: 5856.0010 - val_r_square: 0.8859\n",
            "Epoch 14/20\n",
            "144/144 [==============================] - 4s 29ms/step - loss: 5523.8633 - r_square: 0.8909 - val_loss: 5766.6367 - val_r_square: 0.8877\n",
            "Epoch 15/20\n",
            "144/144 [==============================] - 4s 28ms/step - loss: 5522.0786 - r_square: 0.8909 - val_loss: 5901.2891 - val_r_square: 0.8851\n",
            "Epoch 16/20\n",
            "144/144 [==============================] - 5s 34ms/step - loss: 5455.8271 - r_square: 0.8922 - val_loss: 5705.2915 - val_r_square: 0.8889\n",
            "Epoch 17/20\n",
            "144/144 [==============================] - 4s 28ms/step - loss: 5418.0986 - r_square: 0.8930 - val_loss: 5687.3599 - val_r_square: 0.8892\n",
            "Epoch 18/20\n",
            "144/144 [==============================] - 4s 28ms/step - loss: 5461.4854 - r_square: 0.8921 - val_loss: 5812.0312 - val_r_square: 0.8868\n",
            "Epoch 19/20\n",
            "144/144 [==============================] - 5s 34ms/step - loss: 5330.6582 - r_square: 0.8947 - val_loss: 5732.4634 - val_r_square: 0.8883\n",
            "Epoch 20/20\n",
            "144/144 [==============================] - 4s 30ms/step - loss: 5310.8906 - r_square: 0.8951 - val_loss: 5607.8945 - val_r_square: 0.8908\n"
          ]
        }
      ]
    },
    {
      "cell_type": "code",
      "source": [
        "model.fit(X_trn,y_trn,epochs=30, validation_data=(X_val,y_val), batch_size=1024, initial_epoch=20)"
      ],
      "metadata": {
        "colab": {
          "base_uri": "https://localhost:8080/"
        },
        "id": "16u-kLAMyoaA",
        "outputId": "acbe2baa-2047-4390-95b0-2a4a79d4f4a3"
      },
      "execution_count": null,
      "outputs": [
        {
          "output_type": "stream",
          "name": "stdout",
          "text": [
            "Epoch 21/30\n",
            "144/144 [==============================] - 4s 28ms/step - loss: 5291.2583 - r_square: 0.8955 - val_loss: 5623.0620 - val_r_square: 0.8905\n",
            "Epoch 22/30\n",
            "144/144 [==============================] - 6s 42ms/step - loss: 5270.7231 - r_square: 0.8959 - val_loss: 5553.4609 - val_r_square: 0.8918\n",
            "Epoch 23/30\n",
            "144/144 [==============================] - 4s 28ms/step - loss: 5218.1011 - r_square: 0.8969 - val_loss: 5615.9126 - val_r_square: 0.8906\n",
            "Epoch 24/30\n",
            "144/144 [==============================] - 4s 31ms/step - loss: 5184.1060 - r_square: 0.8976 - val_loss: 5623.9141 - val_r_square: 0.8905\n",
            "Epoch 25/30\n",
            "144/144 [==============================] - 4s 31ms/step - loss: 5209.4980 - r_square: 0.8971 - val_loss: 5563.9800 - val_r_square: 0.8916\n",
            "Epoch 26/30\n",
            "144/144 [==============================] - 4s 29ms/step - loss: 5164.4238 - r_square: 0.8980 - val_loss: 5644.2505 - val_r_square: 0.8901\n",
            "Epoch 27/30\n",
            "144/144 [==============================] - 5s 34ms/step - loss: 5162.7148 - r_square: 0.8980 - val_loss: 5693.5649 - val_r_square: 0.8891\n",
            "Epoch 28/30\n",
            "144/144 [==============================] - 4s 28ms/step - loss: 5103.3716 - r_square: 0.8992 - val_loss: 5528.0166 - val_r_square: 0.8923\n",
            "Epoch 29/30\n",
            "144/144 [==============================] - 4s 29ms/step - loss: 5148.6978 - r_square: 0.8983 - val_loss: 5532.9912 - val_r_square: 0.8922\n",
            "Epoch 30/30\n",
            "144/144 [==============================] - 5s 38ms/step - loss: 5138.6807 - r_square: 0.8985 - val_loss: 5556.4126 - val_r_square: 0.8918\n"
          ]
        },
        {
          "output_type": "execute_result",
          "data": {
            "text/plain": [
              "<keras.callbacks.History at 0x7f08130b7f40>"
            ]
          },
          "metadata": {},
          "execution_count": 307
        }
      ]
    },
    {
      "cell_type": "code",
      "source": [
        "model.fit(X_trn,y_trn,epochs=40, validation_data=(X_val,y_val), batch_size=1024, initial_epoch=30)"
      ],
      "metadata": {
        "colab": {
          "base_uri": "https://localhost:8080/"
        },
        "id": "oW60JYIFzF3N",
        "outputId": "a7de236e-89e4-4084-9580-6fbd0685f3c1"
      },
      "execution_count": null,
      "outputs": [
        {
          "output_type": "stream",
          "name": "stdout",
          "text": [
            "Epoch 31/40\n",
            "144/144 [==============================] - 5s 36ms/step - loss: 5056.7451 - r_square: 0.9001 - val_loss: 5452.1016 - val_r_square: 0.8938\n",
            "Epoch 32/40\n",
            "144/144 [==============================] - 4s 28ms/step - loss: 5161.2354 - r_square: 0.8981 - val_loss: 5568.0659 - val_r_square: 0.8915\n",
            "Epoch 33/40\n",
            "144/144 [==============================] - 4s 28ms/step - loss: 5054.9976 - r_square: 0.9002 - val_loss: 5432.7759 - val_r_square: 0.8942\n",
            "Epoch 34/40\n",
            "144/144 [==============================] - 5s 35ms/step - loss: 5063.4272 - r_square: 0.9000 - val_loss: 5416.2847 - val_r_square: 0.8945\n",
            "Epoch 35/40\n",
            "144/144 [==============================] - 4s 29ms/step - loss: 5007.2104 - r_square: 0.9011 - val_loss: 5373.0146 - val_r_square: 0.8953\n",
            "Epoch 36/40\n",
            "144/144 [==============================] - 4s 28ms/step - loss: 5016.1455 - r_square: 0.9009 - val_loss: 5346.0791 - val_r_square: 0.8959\n",
            "Epoch 37/40\n",
            "144/144 [==============================] - 5s 34ms/step - loss: 4975.7925 - r_square: 0.9017 - val_loss: 5529.6479 - val_r_square: 0.8923\n",
            "Epoch 38/40\n",
            "144/144 [==============================] - 4s 28ms/step - loss: 4968.9272 - r_square: 0.9019 - val_loss: 5508.2681 - val_r_square: 0.8927\n",
            "Epoch 39/40\n",
            "144/144 [==============================] - 6s 41ms/step - loss: 4959.4624 - r_square: 0.9020 - val_loss: 5405.0400 - val_r_square: 0.8947\n",
            "Epoch 40/40\n",
            "144/144 [==============================] - 4s 30ms/step - loss: 4926.4946 - r_square: 0.9027 - val_loss: 5390.5298 - val_r_square: 0.8950\n"
          ]
        },
        {
          "output_type": "execute_result",
          "data": {
            "text/plain": [
              "<keras.callbacks.History at 0x7f0812d931f0>"
            ]
          },
          "metadata": {},
          "execution_count": 308
        }
      ]
    },
    {
      "cell_type": "code",
      "source": [
        "model.fit(X_trn,y_trn,epochs=50, validation_data=(X_val,y_val), batch_size=1024, initial_epoch=40)"
      ],
      "metadata": {
        "colab": {
          "base_uri": "https://localhost:8080/"
        },
        "id": "FP7Hm_1izYKi",
        "outputId": "906038af-97ee-49d6-8b87-1b7256513ecf"
      },
      "execution_count": null,
      "outputs": [
        {
          "output_type": "stream",
          "name": "stdout",
          "text": [
            "Epoch 41/50\n",
            "144/144 [==============================] - 5s 35ms/step - loss: 4930.7803 - r_square: 0.9026 - val_loss: 5378.5718 - val_r_square: 0.8952\n",
            "Epoch 42/50\n",
            "144/144 [==============================] - 4s 28ms/step - loss: 4929.3770 - r_square: 0.9026 - val_loss: 5333.3687 - val_r_square: 0.8961\n",
            "Epoch 43/50\n",
            "144/144 [==============================] - 5s 34ms/step - loss: 4957.0464 - r_square: 0.9021 - val_loss: 5348.9868 - val_r_square: 0.8958\n",
            "Epoch 44/50\n",
            "144/144 [==============================] - 4s 30ms/step - loss: 4918.2886 - r_square: 0.9029 - val_loss: 5372.8389 - val_r_square: 0.8953\n",
            "Epoch 45/50\n",
            "144/144 [==============================] - 4s 30ms/step - loss: 4945.9990 - r_square: 0.9023 - val_loss: 5453.2988 - val_r_square: 0.8938\n",
            "Epoch 46/50\n",
            "144/144 [==============================] - 5s 35ms/step - loss: 4906.9780 - r_square: 0.9031 - val_loss: 5368.4038 - val_r_square: 0.8954\n",
            "Epoch 47/50\n",
            "144/144 [==============================] - 5s 35ms/step - loss: 4916.7456 - r_square: 0.9029 - val_loss: 5318.5225 - val_r_square: 0.8964\n",
            "Epoch 48/50\n",
            "144/144 [==============================] - 4s 30ms/step - loss: 4853.8975 - r_square: 0.9041 - val_loss: 5315.6128 - val_r_square: 0.8965\n",
            "Epoch 49/50\n",
            "144/144 [==============================] - 5s 33ms/step - loss: 4888.4243 - r_square: 0.9034 - val_loss: 5460.8877 - val_r_square: 0.8936\n",
            "Epoch 50/50\n",
            "144/144 [==============================] - 4s 28ms/step - loss: 4822.7803 - r_square: 0.9047 - val_loss: 5479.1572 - val_r_square: 0.8933\n"
          ]
        },
        {
          "output_type": "execute_result",
          "data": {
            "text/plain": [
              "<keras.callbacks.History at 0x7f080e4763d0>"
            ]
          },
          "metadata": {},
          "execution_count": 309
        }
      ]
    },
    {
      "cell_type": "code",
      "source": [
        "y_pred = model.predict(transform.transform(x).toarray())"
      ],
      "metadata": {
        "colab": {
          "base_uri": "https://localhost:8080/"
        },
        "id": "N53X9xOaSkk8",
        "outputId": "393af93a-934a-4743-ef82-58ff2bf0da93"
      },
      "execution_count": null,
      "outputs": [
        {
          "output_type": "stream",
          "name": "stdout",
          "text": [
            "5108/5108 [==============================] - 9s 2ms/step\n"
          ]
        }
      ]
    },
    {
      "cell_type": "code",
      "source": [
        "y_pred_test = model.predict(transform.transform(x_test).toarray())"
      ],
      "metadata": {
        "id": "GXnpxz_AXgOn",
        "colab": {
          "base_uri": "https://localhost:8080/"
        },
        "outputId": "092de90d-4365-4b09-e796-4ef22114d10e"
      },
      "execution_count": null,
      "outputs": [
        {
          "output_type": "stream",
          "name": "stdout",
          "text": [
            " 16/568 [..............................] - ETA: 1s "
          ]
        },
        {
          "output_type": "stream",
          "name": "stderr",
          "text": [
            "/usr/local/lib/python3.9/dist-packages/sklearn/preprocessing/_encoders.py:202: UserWarning: Found unknown categories in columns [2] during transform. These unknown categories will be encoded as all zeros\n",
            "  warnings.warn(\n"
          ]
        },
        {
          "output_type": "stream",
          "name": "stdout",
          "text": [
            "568/568 [==============================] - 1s 3ms/step\n"
          ]
        }
      ]
    },
    {
      "cell_type": "code",
      "source": [
        "r2_score(y,y_pred) , r2_score(y_test_,y_pred_test)"
      ],
      "metadata": {
        "colab": {
          "base_uri": "https://localhost:8080/"
        },
        "id": "0VTKpxy80Am4",
        "outputId": "933ca140-f860-427f-bb05-72e92cf67087"
      },
      "execution_count": null,
      "outputs": [
        {
          "output_type": "execute_result",
          "data": {
            "text/plain": [
              "(0.902023733212354, 0.8932957545898542)"
            ]
          },
          "metadata": {},
          "execution_count": 322
        }
      ]
    },
    {
      "cell_type": "markdown",
      "source": [
        "Have made a basic neural network and for now not optimizing it further."
      ],
      "metadata": {
        "id": "pr-88S2UZsNu"
      }
    },
    {
      "cell_type": "markdown",
      "source": [
        "**OLS StatsModel:**"
      ],
      "metadata": {
        "id": "4UYqxqohZ-LB"
      }
    },
    {
      "cell_type": "markdown",
      "source": [
        "- statsmodels module gives some extra statistical values which can be used for further analysis."
      ],
      "metadata": {
        "id": "UrDiHhX_aB-S"
      }
    },
    {
      "cell_type": "code",
      "source": [
        "import statsmodels.api as sm\n",
        "est = sm.OLS(y,transform.fit_transform(x).toarray())\n",
        "est2 = est.fit()\n",
        "print(est2.summary())"
      ],
      "metadata": {
        "id": "HK-1t2-Nf1Eu",
        "colab": {
          "base_uri": "https://localhost:8080/"
        },
        "outputId": "db13e7c5-f766-4cfc-cb7a-cf72af7824b5"
      },
      "execution_count": null,
      "outputs": [
        {
          "output_type": "stream",
          "name": "stdout",
          "text": [
            "                                 OLS Regression Results                                \n",
            "=======================================================================================\n",
            "Dep. Variable:          selling_price   R-squared (uncentered):                   0.988\n",
            "Model:                            OLS   Adj. R-squared (uncentered):              0.988\n",
            "Method:                 Least Squares   F-statistic:                          1.417e+05\n",
            "Date:                Sun, 12 Mar 2023   Prob (F-statistic):                        0.00\n",
            "Time:                        23:13:31   Log-Likelihood:                     -9.6974e+05\n",
            "No. Observations:              163434   AIC:                                  1.940e+06\n",
            "Df Residuals:                  163336   BIC:                                  1.941e+06\n",
            "Df Model:                          98                                                  \n",
            "Covariance Type:            nonrobust                                                  \n",
            "==============================================================================\n",
            "                 coef    std err          t      P>|t|      [0.025      0.975]\n",
            "------------------------------------------------------------------------------\n",
            "x1            -3.4855      0.238    -14.652      0.000      -3.952      -3.019\n",
            "x2           -34.9981      0.436    -80.318      0.000     -35.852     -34.144\n",
            "x3            -4.2502      0.281    -15.109      0.000      -4.802      -3.699\n",
            "x4           904.5758      1.842    491.131      0.000     900.966     908.186\n",
            "x5           912.8459      1.887    483.771      0.000     909.148     916.544\n",
            "x6           911.4010     32.374     28.153      0.000     847.950     974.853\n",
            "x7           958.3248     13.314     71.980      0.000     932.230     984.419\n",
            "x8           916.2478      2.302    398.055      0.000     911.736     920.759\n",
            "x9           862.4874      2.297    375.481      0.000     857.985     866.990\n",
            "x10          906.5583      1.764    513.873      0.000     903.101     910.016\n",
            "x11          955.8380     91.403     10.457      0.000     776.691    1134.985\n",
            "x12           -9.8607     16.173     -0.610      0.542     -41.559      21.838\n",
            "x13            8.7557     16.753      0.523      0.601     -24.079      41.590\n",
            "x14           12.7796     18.211      0.702      0.483     -22.913      48.472\n",
            "x15          -30.7887     15.731     -1.957      0.050     -61.621       0.044\n",
            "x16          -30.1363     15.716     -1.918      0.055     -60.940       0.667\n",
            "x17          -42.4092     17.831     -2.378      0.017     -77.358      -7.460\n",
            "x18           -3.0836     16.127     -0.191      0.848     -34.691      28.524\n",
            "x19          -29.9218     16.019     -1.868      0.062     -61.319       1.476\n",
            "x20          -63.0815     15.942     -3.957      0.000     -94.327     -31.836\n",
            "x21          -32.9617     15.905     -2.072      0.038     -64.136      -1.787\n",
            "x22            2.0966     15.888      0.132      0.895     -29.044      33.237\n",
            "x23          -58.7859     15.931     -3.690      0.000     -90.011     -27.561\n",
            "x24            6.3935     15.873      0.403      0.687     -24.718      37.505\n",
            "x25          -46.9558     16.316     -2.878      0.004     -78.934     -14.977\n",
            "x26           10.8976     16.845      0.647      0.518     -22.119      43.914\n",
            "x27            9.1767     15.922      0.576      0.564     -22.030      40.383\n",
            "x28          -16.6539     15.742     -1.058      0.290     -47.508      14.201\n",
            "x29           -5.7253     15.780     -0.363      0.717     -36.654      25.203\n",
            "x30           -4.4696     15.804     -0.283      0.777     -35.446      26.507\n",
            "x31          -52.2153     16.392     -3.185      0.001     -84.344     -20.087\n",
            "x32          -33.3990     15.766     -2.118      0.034     -64.299      -2.499\n",
            "x33           -6.6989     16.875     -0.397      0.691     -39.774      26.376\n",
            "x34           30.8622     16.157      1.910      0.056      -0.806      62.530\n",
            "x35           18.0135     17.058      1.056      0.291     -15.420      51.447\n",
            "x36          -63.3920     17.335     -3.657      0.000     -97.368     -29.416\n",
            "x37           67.2299     17.976      3.740      0.000      31.998     102.462\n",
            "x38          -50.9197     18.268     -2.787      0.005     -86.725     -15.115\n",
            "x39           29.2931     15.946      1.837      0.066      -1.961      60.547\n",
            "x40          121.3199     17.616      6.887      0.000      86.793     155.847\n",
            "x41         -371.1124     16.592    -22.367      0.000    -403.632    -338.593\n",
            "x42         -318.4050      9.028    -35.268      0.000    -336.100    -300.710\n",
            "x43         -512.3756     11.594    -44.193      0.000    -535.100    -489.651\n",
            "x44         -506.3103      9.641    -52.518      0.000    -525.206    -487.415\n",
            "x45         -559.1009      9.061    -61.701      0.000    -576.861    -541.341\n",
            "x46         -528.3267     14.241    -37.098      0.000    -556.239    -500.414\n",
            "x47         -503.0134      9.191    -54.728      0.000    -521.028    -484.999\n",
            "x48         -572.9895      9.119    -62.837      0.000    -590.862    -555.117\n",
            "x49         -489.6193      9.035    -54.193      0.000    -507.327    -471.911\n",
            "x50         -439.7355     16.630    -26.442      0.000    -472.331    -407.140\n",
            "x51         -463.7400      9.848    -47.088      0.000    -483.043    -444.437\n",
            "x52         -507.9034     10.751    -47.243      0.000    -528.975    -486.832\n",
            "x53         -539.8421      9.143    -59.046      0.000    -557.762    -521.922\n",
            "x54         -391.9229     30.432    -12.879      0.000    -451.569    -332.276\n",
            "x55         -397.4991     11.338    -35.059      0.000    -419.721    -375.277\n",
            "x56         -319.5281     33.740     -9.470      0.000    -385.657    -253.399\n",
            "x57         -319.0297     65.256     -4.889      0.000    -446.930    -191.130\n",
            "x58         -498.3426     91.817     -5.428      0.000    -678.302    -318.384\n",
            "x59         -462.5554      9.450    -48.950      0.000    -481.076    -444.034\n",
            "x60         -421.2568     10.309    -40.864      0.000    -441.462    -401.052\n",
            "x61         -440.3359      9.070    -48.548      0.000    -458.113    -422.559\n",
            "x62         -419.6059     15.782    -26.588      0.000    -450.538    -388.674\n",
            "x63         -562.0788      9.092    -61.819      0.000    -579.899    -544.258\n",
            "x64         -506.6854      9.210    -55.016      0.000    -524.736    -488.635\n",
            "x65         -528.5337      9.692    -54.534      0.000    -547.529    -509.538\n",
            "x66         -471.9681     12.092    -39.030      0.000    -495.669    -448.267\n",
            "x67         -396.3348     23.954    -16.546      0.000    -443.285    -349.385\n",
            "x68         -491.4904      9.313    -52.775      0.000    -509.744    -473.237\n",
            "x69         -555.6622     10.617    -52.337      0.000    -576.471    -534.853\n",
            "x70         -679.2915     10.845    -62.634      0.000    -700.548    -658.035\n",
            "x71         -542.7728     12.504    -43.409      0.000    -567.280    -518.266\n",
            "x72          613.8146     55.748     11.011      0.000     504.550     723.079\n",
            "x73          373.3344     93.144      4.008      0.000     190.773     555.895\n",
            "x74          332.8413     20.028     16.619      0.000     293.586     372.096\n",
            "x75          269.7562     22.083     12.216      0.000     226.474     313.038\n",
            "x76          238.1850     30.390      7.838      0.000     178.621     297.749\n",
            "x77          271.7319     24.444     11.117      0.000     223.823     319.641\n",
            "x78          262.2158     18.115     14.475      0.000     226.711     297.720\n",
            "x79          237.8520     18.132     13.118      0.000     202.313     273.391\n",
            "x80          242.0028     18.127     13.351      0.000     206.475     277.531\n",
            "x81          293.7950     18.087     16.243      0.000     258.345     329.245\n",
            "x82          294.4481     18.118     16.252      0.000     258.938     329.958\n",
            "x83          303.5819     18.112     16.761      0.000     268.082     339.082\n",
            "x84          366.9721     18.083     20.294      0.000     331.529     402.415\n",
            "x85          379.3742     18.124     20.933      0.000     343.852     414.896\n",
            "x86          426.4088     18.103     23.555      0.000     390.927     461.890\n",
            "x87          518.4519     18.085     28.668      0.000     483.006     553.897\n",
            "x88          558.9799     18.112     30.862      0.000     523.480     594.480\n",
            "x89          577.0423     18.118     31.848      0.000     541.531     612.554\n",
            "x90          608.3152     18.075     33.655      0.000     572.888     643.742\n",
            "x91          649.0114     18.145     35.768      0.000     613.448     684.575\n",
            "x92          718.4460     18.857     38.099      0.000     681.486     755.406\n",
            "x93          801.7157     19.385     41.358      0.000     763.722     839.709\n",
            "x94          809.6739     93.237      8.684      0.000     626.931     992.417\n",
            "x95          825.4769     40.676     20.294      0.000     745.753     905.201\n",
            "x96          248.3544     93.601      2.653      0.008      64.899     431.810\n",
            "x97          791.9669     41.521     19.074      0.000     710.587     873.347\n",
            "x98          711.1889     93.152      7.635      0.000     528.614     893.764\n",
            "==============================================================================\n",
            "Omnibus:                    43616.267   Durbin-Watson:                   2.000\n",
            "Prob(Omnibus):                  0.000   Jarque-Bera (JB):           283747.406\n",
            "Skew:                           1.126   Prob(JB):                         0.00\n",
            "Kurtosis:                       9.050   Cond. No.                         706.\n",
            "==============================================================================\n",
            "\n",
            "Notes:\n",
            "[1] R² is computed without centering (uncentered) since the model does not contain a constant.\n",
            "[2] Standard Errors assume that the covariance matrix of the errors is correctly specified.\n"
          ]
        }
      ]
    },
    {
      "cell_type": "code",
      "source": [
        "transform.output_indices_"
      ],
      "metadata": {
        "colab": {
          "base_uri": "https://localhost:8080/"
        },
        "id": "OCrH0KCxbMi_",
        "outputId": "76549ca3-12c9-43d2-85e9-0ae9e2bb472d"
      },
      "execution_count": null,
      "outputs": [
        {
          "output_type": "execute_result",
          "data": {
            "text/plain": [
              "{'powertransformer': slice(0, 3, None),\n",
              " 'onehotencoder': slice(3, 98, None),\n",
              " 'remainder': slice(0, 0, None)}"
            ]
          },
          "metadata": {},
          "execution_count": 159
        }
      ]
    },
    {
      "cell_type": "code",
      "source": [
        "l #linear regression top features"
      ],
      "metadata": {
        "colab": {
          "base_uri": "https://localhost:8080/",
          "height": 363
        },
        "id": "n9c0O516eQ5j",
        "outputId": "25e6ff90-4983-4b7a-fa7f-f43628253234"
      },
      "execution_count": null,
      "outputs": [
        {
          "output_type": "execute_result",
          "data": {
            "text/plain": [
              "                    feature     weights\n",
              "0            status_Revised  882.599576\n",
              "1    status_Not lost for AM  882.062112\n",
              "2                status_Won  876.160532\n",
              "3               status_Lost  873.645612\n",
              "4     status_To be approved  828.870774\n",
              "5            status_Offered  646.896186\n",
              "6  delivery date_20211001.0  341.402807\n",
              "7  delivery date_20210901.0  276.438763\n",
              "8    product_ref_1721130331  228.630275\n",
              "9  delivery date_20210801.0  220.896360"
            ],
            "text/html": [
              "\n",
              "  <div id=\"df-5762372f-dbc3-49fa-85f7-2ae8efadfa49\">\n",
              "    <div class=\"colab-df-container\">\n",
              "      <div>\n",
              "<style scoped>\n",
              "    .dataframe tbody tr th:only-of-type {\n",
              "        vertical-align: middle;\n",
              "    }\n",
              "\n",
              "    .dataframe tbody tr th {\n",
              "        vertical-align: top;\n",
              "    }\n",
              "\n",
              "    .dataframe thead th {\n",
              "        text-align: right;\n",
              "    }\n",
              "</style>\n",
              "<table border=\"1\" class=\"dataframe\">\n",
              "  <thead>\n",
              "    <tr style=\"text-align: right;\">\n",
              "      <th></th>\n",
              "      <th>feature</th>\n",
              "      <th>weights</th>\n",
              "    </tr>\n",
              "  </thead>\n",
              "  <tbody>\n",
              "    <tr>\n",
              "      <th>0</th>\n",
              "      <td>status_Revised</td>\n",
              "      <td>882.599576</td>\n",
              "    </tr>\n",
              "    <tr>\n",
              "      <th>1</th>\n",
              "      <td>status_Not lost for AM</td>\n",
              "      <td>882.062112</td>\n",
              "    </tr>\n",
              "    <tr>\n",
              "      <th>2</th>\n",
              "      <td>status_Won</td>\n",
              "      <td>876.160532</td>\n",
              "    </tr>\n",
              "    <tr>\n",
              "      <th>3</th>\n",
              "      <td>status_Lost</td>\n",
              "      <td>873.645612</td>\n",
              "    </tr>\n",
              "    <tr>\n",
              "      <th>4</th>\n",
              "      <td>status_To be approved</td>\n",
              "      <td>828.870774</td>\n",
              "    </tr>\n",
              "    <tr>\n",
              "      <th>5</th>\n",
              "      <td>status_Offered</td>\n",
              "      <td>646.896186</td>\n",
              "    </tr>\n",
              "    <tr>\n",
              "      <th>6</th>\n",
              "      <td>delivery date_20211001.0</td>\n",
              "      <td>341.402807</td>\n",
              "    </tr>\n",
              "    <tr>\n",
              "      <th>7</th>\n",
              "      <td>delivery date_20210901.0</td>\n",
              "      <td>276.438763</td>\n",
              "    </tr>\n",
              "    <tr>\n",
              "      <th>8</th>\n",
              "      <td>product_ref_1721130331</td>\n",
              "      <td>228.630275</td>\n",
              "    </tr>\n",
              "    <tr>\n",
              "      <th>9</th>\n",
              "      <td>delivery date_20210801.0</td>\n",
              "      <td>220.896360</td>\n",
              "    </tr>\n",
              "  </tbody>\n",
              "</table>\n",
              "</div>\n",
              "      <button class=\"colab-df-convert\" onclick=\"convertToInteractive('df-5762372f-dbc3-49fa-85f7-2ae8efadfa49')\"\n",
              "              title=\"Convert this dataframe to an interactive table.\"\n",
              "              style=\"display:none;\">\n",
              "        \n",
              "  <svg xmlns=\"http://www.w3.org/2000/svg\" height=\"24px\"viewBox=\"0 0 24 24\"\n",
              "       width=\"24px\">\n",
              "    <path d=\"M0 0h24v24H0V0z\" fill=\"none\"/>\n",
              "    <path d=\"M18.56 5.44l.94 2.06.94-2.06 2.06-.94-2.06-.94-.94-2.06-.94 2.06-2.06.94zm-11 1L8.5 8.5l.94-2.06 2.06-.94-2.06-.94L8.5 2.5l-.94 2.06-2.06.94zm10 10l.94 2.06.94-2.06 2.06-.94-2.06-.94-.94-2.06-.94 2.06-2.06.94z\"/><path d=\"M17.41 7.96l-1.37-1.37c-.4-.4-.92-.59-1.43-.59-.52 0-1.04.2-1.43.59L10.3 9.45l-7.72 7.72c-.78.78-.78 2.05 0 2.83L4 21.41c.39.39.9.59 1.41.59.51 0 1.02-.2 1.41-.59l7.78-7.78 2.81-2.81c.8-.78.8-2.07 0-2.86zM5.41 20L4 18.59l7.72-7.72 1.47 1.35L5.41 20z\"/>\n",
              "  </svg>\n",
              "      </button>\n",
              "      \n",
              "  <style>\n",
              "    .colab-df-container {\n",
              "      display:flex;\n",
              "      flex-wrap:wrap;\n",
              "      gap: 12px;\n",
              "    }\n",
              "\n",
              "    .colab-df-convert {\n",
              "      background-color: #E8F0FE;\n",
              "      border: none;\n",
              "      border-radius: 50%;\n",
              "      cursor: pointer;\n",
              "      display: none;\n",
              "      fill: #1967D2;\n",
              "      height: 32px;\n",
              "      padding: 0 0 0 0;\n",
              "      width: 32px;\n",
              "    }\n",
              "\n",
              "    .colab-df-convert:hover {\n",
              "      background-color: #E2EBFA;\n",
              "      box-shadow: 0px 1px 2px rgba(60, 64, 67, 0.3), 0px 1px 3px 1px rgba(60, 64, 67, 0.15);\n",
              "      fill: #174EA6;\n",
              "    }\n",
              "\n",
              "    [theme=dark] .colab-df-convert {\n",
              "      background-color: #3B4455;\n",
              "      fill: #D2E3FC;\n",
              "    }\n",
              "\n",
              "    [theme=dark] .colab-df-convert:hover {\n",
              "      background-color: #434B5C;\n",
              "      box-shadow: 0px 1px 3px 1px rgba(0, 0, 0, 0.15);\n",
              "      filter: drop-shadow(0px 1px 2px rgba(0, 0, 0, 0.3));\n",
              "      fill: #FFFFFF;\n",
              "    }\n",
              "  </style>\n",
              "\n",
              "      <script>\n",
              "        const buttonEl =\n",
              "          document.querySelector('#df-5762372f-dbc3-49fa-85f7-2ae8efadfa49 button.colab-df-convert');\n",
              "        buttonEl.style.display =\n",
              "          google.colab.kernel.accessAllowed ? 'block' : 'none';\n",
              "\n",
              "        async function convertToInteractive(key) {\n",
              "          const element = document.querySelector('#df-5762372f-dbc3-49fa-85f7-2ae8efadfa49');\n",
              "          const dataTable =\n",
              "            await google.colab.kernel.invokeFunction('convertToInteractive',\n",
              "                                                     [key], {});\n",
              "          if (!dataTable) return;\n",
              "\n",
              "          const docLinkHtml = 'Like what you see? Visit the ' +\n",
              "            '<a target=\"_blank\" href=https://colab.research.google.com/notebooks/data_table.ipynb>data table notebook</a>'\n",
              "            + ' to learn more about interactive tables.';\n",
              "          element.innerHTML = '';\n",
              "          dataTable['output_type'] = 'display_data';\n",
              "          await google.colab.output.renderOutput(dataTable, element);\n",
              "          const docLink = document.createElement('div');\n",
              "          docLink.innerHTML = docLinkHtml;\n",
              "          element.appendChild(docLink);\n",
              "        }\n",
              "      </script>\n",
              "    </div>\n",
              "  </div>\n",
              "  "
            ]
          },
          "metadata": {},
          "execution_count": 161
        }
      ]
    },
    {
      "cell_type": "code",
      "source": [
        "onehot_features"
      ],
      "metadata": {
        "colab": {
          "base_uri": "https://localhost:8080/"
        },
        "id": "3i5LtL0maqGT",
        "outputId": "f5e7d11a-2165-47fa-bf63-22c57e10d3ca"
      },
      "execution_count": null,
      "outputs": [
        {
          "output_type": "execute_result",
          "data": {
            "text/plain": [
              "array(['status_Lost', 'status_Not lost for AM', 'status_Offerable',\n",
              "       'status_Offered', 'status_Revised', 'status_To be approved',\n",
              "       'status_Won', 'status_Wonderful', 'application_3.0',\n",
              "       'application_4.0', 'application_5.0', 'application_10.0',\n",
              "       'application_15.0', 'application_19.0', 'application_20.0',\n",
              "       'application_22.0', 'application_25.0', 'application_26.0',\n",
              "       'application_27.0', 'application_28.0', 'application_29.0',\n",
              "       'application_38.0', 'application_39.0', 'application_40.0',\n",
              "       'application_41.0', 'application_42.0', 'application_56.0',\n",
              "       'application_58.0', 'application_59.0', 'application_65.0',\n",
              "       'application_66.0', 'application_67.0', 'application_68.0',\n",
              "       'application_69.0', 'application_70.0', 'application_79.0',\n",
              "       'application_99.0', 'product_ref_611733', 'product_ref_611993',\n",
              "       'product_ref_628112', 'product_ref_628117', 'product_ref_628377',\n",
              "       'product_ref_640400', 'product_ref_640405', 'product_ref_640665',\n",
              "       'product_ref_164141591', 'product_ref_164336407',\n",
              "       'product_ref_164337175', 'product_ref_1282007633',\n",
              "       'product_ref_1332077137', 'product_ref_1665572032',\n",
              "       'product_ref_1665572374', 'product_ref_1665584320',\n",
              "       'product_ref_1665584642', 'product_ref_1665584662',\n",
              "       'product_ref_1668701376', 'product_ref_1668701698',\n",
              "       'product_ref_1668701718', 'product_ref_1668701725',\n",
              "       'product_ref_1670798778', 'product_ref_1671863738',\n",
              "       'product_ref_1671876026', 'product_ref_1690738206',\n",
              "       'product_ref_1690738219', 'product_ref_1693867550',\n",
              "       'product_ref_1693867563', 'product_ref_1721130331',\n",
              "       'product_ref_1722207579', 'delivery date_20190701.0',\n",
              "       'delivery date_20191001.0', 'delivery date_20200101.0',\n",
              "       'delivery date_20200401.0', 'delivery date_20200501.0',\n",
              "       'delivery date_20200601.0', 'delivery date_20200701.0',\n",
              "       'delivery date_20200801.0', 'delivery date_20200901.0',\n",
              "       'delivery date_20201001.0', 'delivery date_20201101.0',\n",
              "       'delivery date_20201201.0', 'delivery date_20210101.0',\n",
              "       'delivery date_20210201.0', 'delivery date_20210301.0',\n",
              "       'delivery date_20210401.0', 'delivery date_20210501.0',\n",
              "       'delivery date_20210601.0', 'delivery date_20210701.0',\n",
              "       'delivery date_20210801.0', 'delivery date_20210901.0',\n",
              "       'delivery date_20211001.0', 'delivery date_20211101.0',\n",
              "       'delivery date_20211201.0', 'delivery date_20212222.0',\n",
              "       'delivery date_20220101.0', 'delivery date_30310101.0'],\n",
              "      dtype=object)"
            ]
          },
          "metadata": {},
          "execution_count": 158
        }
      ]
    },
    {
      "cell_type": "markdown",
      "source": [
        "<font color ='red'>Observation:\n",
        "- If we compare statsmodel data and onehot features we see that 'application' feature(x12-x41) have many high p-value and corresponding less confident(wide) confidence interval.\n",
        "- 'application' feature(x12-x41) had lowest anova f score among selected top 4 categorical features, which is also reflected in above statistical values.\n",
        "- 3 numerical features(x1-x3) show moderate statistical values with good confidence interval.\n",
        "- 'status' feature(x4-x11) have many high t value.\n",
        "- We see that x6,x11 feature from status do not appear in linear regression top features as they have low t and wide C.I."
      ],
      "metadata": {
        "id": "ThaobbWGbY2t"
      }
    }
  ]
}